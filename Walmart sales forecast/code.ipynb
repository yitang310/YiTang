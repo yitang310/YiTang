{
 "cells": [
  {
   "cell_type": "markdown",
   "metadata": {
    "colab_type": "text",
    "id": "o0tccdZi--Ul"
   },
   "source": [
    "Yi Tang & Chenxi Yang "
   ]
  },
  {
   "cell_type": "markdown",
   "metadata": {
    "colab_type": "text",
    "id": "qKZIUf6v9vOq"
   },
   "source": [
    "# DATA 586 Project 2"
   ]
  },
  {
   "cell_type": "markdown",
   "metadata": {
    "colab_type": "text",
    "id": "4mdBnhgV2mb0"
   },
   "source": [
    "### Introduction\n",
    "\n",
    "In this mini project 2, we work on forecasting the unit sales of various products sold in the USA by Walmart as precisely as possible using RNN model, one of the effective models in machine learning, to improve forecast accuracy.\n",
    "\n",
    "All data are retrieved from https://www.kaggle.com/c/m5-forecasting-accuracy/data, which covers stores in three US States (California, Texas, and Wisconsin) and includes item level, department, product categories, and store details. In addition, it has explanatory variables such as price, promotions, day of the week, and special events. \n",
    "\n",
    "The data comprises 3049 individual products from 3 categories and 7 departments, sold in 10 stores in 3 states from `d1` to `d1913`, which are 1913 days in total. The hierachical aggregation captures the combinations of these factors."
   ]
  },
  {
   "cell_type": "markdown",
   "metadata": {
    "colab_type": "text",
    "id": "CFrELDDbnEHs"
   },
   "source": [
    "Our goal of this project is to apply this robust dataset to forecast daily sales for the next 28 days (from `d1914` to `d1941`) and improve forecasting accuracy.\n",
    "\n",
    "We aim to advance the theory and practice of forecasting. The methods used can be applied in various business areas, such as setting up appropriate inventory or service levels. Through its business support and training, the MOFC will help distribute the tools and knowledge so others can achieve more accurate and better calibrated forecasts, reduce waste and be able to appreciate uncertainty and its risk implications.\n",
    "\n",
    "*Note: this .ipynb runs at jupyter notebook.*"
   ]
  },
  {
   "cell_type": "markdown",
   "metadata": {
    "colab_type": "text",
    "id": "9xQRW5gr_F69"
   },
   "source": [
    "### Import packages \n",
    "\n",
    "Import all packages used in this project and set up for the operation path at first.\n",
    "\n",
    "\n",
    "*Note: GPU acceleration is not used for the training in this project.*"
   ]
  },
  {
   "cell_type": "code",
   "execution_count": 0,
   "metadata": {
    "colab": {},
    "colab_type": "code",
    "id": "CfhUnzCe76G-"
   },
   "outputs": [],
   "source": [
    "# Import packages\n",
    "import os\n",
    "import numpy as np\n",
    "import pandas as pd\n",
    "import tensorflow as tf\n",
    "from sklearn import preprocessing\n",
    "os.chdir(\"/Users/ty/Desktop/DATA 586/project/project2/\")"
   ]
  },
  {
   "cell_type": "markdown",
   "metadata": {
    "colab_type": "text",
    "id": "bVupqfNj2uoe"
   },
   "source": [
    "### Perpare Data\n",
    "\n",
    "Our objective for this project is to predict item sales at stores in various locations for two 28-day time periods. \n",
    "\n",
    "According to the M5 Participants Guide, inside the entire dataset `m5-forecasting-accuracy`, it can be observed that there are 4 separate csv files, including `calender.csv`, `sales_train_validation.csv`, `sell_prices.csv` and `sample_submission.csv`.\n",
    "\n",
    "We want to go through all data sets and prepare them for modelling."
   ]
  },
  {
   "cell_type": "markdown",
   "metadata": {
    "colab_type": "text",
    "id": "DbUfbVF1_Hxq"
   },
   "source": [
    "#### Load Data\n",
    "\n",
    "Load all data sets one by one."
   ]
  },
  {
   "cell_type": "markdown",
   "metadata": {
    "colab_type": "text",
    "id": "RiGksEd2hTQe"
   },
   "source": [
    "***calender.csv*** contains information about the dates on which the products are sold.\n",
    "\n",
    "The calender data is given for all the 1913 days in the sales data (actually we have 1969 days.\n",
    "There are maximum 2 events in a day for which the event names and the event types are given.\n",
    "\n",
    "Dates together with related features like day-of-the week, month, year, and an 3 binary flags for whether the stores in each state allowed purchases with SNAP food stamps at this date (1) or not (0).\n",
    "\n",
    "*Note: The calendar data has 1969 rows and 14 columns.*"
   ]
  },
  {
   "cell_type": "code",
   "execution_count": 0,
   "metadata": {
    "colab": {
     "base_uri": "https://localhost:8080/",
     "height": 199
    },
    "colab_type": "code",
    "id": "0tCMs-bIINGZ",
    "outputId": "17764845-4d41-45db-9544-c9af9ad5960a"
   },
   "outputs": [
    {
     "data": {
      "text/html": [
       "<div>\n",
       "<style scoped>\n",
       "    .dataframe tbody tr th:only-of-type {\n",
       "        vertical-align: middle;\n",
       "    }\n",
       "\n",
       "    .dataframe tbody tr th {\n",
       "        vertical-align: top;\n",
       "    }\n",
       "\n",
       "    .dataframe thead th {\n",
       "        text-align: right;\n",
       "    }\n",
       "</style>\n",
       "<table border=\"1\" class=\"dataframe\">\n",
       "  <thead>\n",
       "    <tr style=\"text-align: right;\">\n",
       "      <th></th>\n",
       "      <th>date</th>\n",
       "      <th>wm_yr_wk</th>\n",
       "      <th>weekday</th>\n",
       "      <th>wday</th>\n",
       "      <th>month</th>\n",
       "      <th>year</th>\n",
       "      <th>d</th>\n",
       "      <th>event_name_1</th>\n",
       "      <th>event_type_1</th>\n",
       "      <th>event_name_2</th>\n",
       "      <th>event_type_2</th>\n",
       "      <th>snap_CA</th>\n",
       "      <th>snap_TX</th>\n",
       "      <th>snap_WI</th>\n",
       "    </tr>\n",
       "  </thead>\n",
       "  <tbody>\n",
       "    <tr>\n",
       "      <th>0</th>\n",
       "      <td>2011-01-29</td>\n",
       "      <td>11101</td>\n",
       "      <td>Saturday</td>\n",
       "      <td>1</td>\n",
       "      <td>1</td>\n",
       "      <td>2011</td>\n",
       "      <td>d_1</td>\n",
       "      <td>NaN</td>\n",
       "      <td>NaN</td>\n",
       "      <td>NaN</td>\n",
       "      <td>NaN</td>\n",
       "      <td>0</td>\n",
       "      <td>0</td>\n",
       "      <td>0</td>\n",
       "    </tr>\n",
       "    <tr>\n",
       "      <th>1</th>\n",
       "      <td>2011-01-30</td>\n",
       "      <td>11101</td>\n",
       "      <td>Sunday</td>\n",
       "      <td>2</td>\n",
       "      <td>1</td>\n",
       "      <td>2011</td>\n",
       "      <td>d_2</td>\n",
       "      <td>NaN</td>\n",
       "      <td>NaN</td>\n",
       "      <td>NaN</td>\n",
       "      <td>NaN</td>\n",
       "      <td>0</td>\n",
       "      <td>0</td>\n",
       "      <td>0</td>\n",
       "    </tr>\n",
       "  </tbody>\n",
       "</table>\n",
       "</div>"
      ],
      "text/plain": [
       "         date  wm_yr_wk   weekday  wday  month  year    d event_name_1  \\\n",
       "0  2011-01-29     11101  Saturday     1      1  2011  d_1          NaN   \n",
       "1  2011-01-30     11101    Sunday     2      1  2011  d_2          NaN   \n",
       "\n",
       "  event_type_1 event_name_2 event_type_2  snap_CA  snap_TX  snap_WI  \n",
       "0          NaN          NaN          NaN        0        0        0  \n",
       "1          NaN          NaN          NaN        0        0        0  "
      ]
     },
     "execution_count": 2,
     "metadata": {
      "tags": []
     },
     "output_type": "execute_result"
    }
   ],
   "source": [
    "calendar = pd.read_csv(\"m5-forecasting-accuracy/calendar.csv\")\n",
    "calendar.head(2)"
   ]
  },
  {
   "cell_type": "code",
   "execution_count": 0,
   "metadata": {
    "colab": {},
    "colab_type": "code",
    "id": "6D81BjV1Uz0l",
    "outputId": "7b6ffdf4-336c-4f17-f865-3147b195a97e"
   },
   "outputs": [
    {
     "data": {
      "text/plain": [
       "(1969, 14)"
      ]
     },
     "execution_count": 3,
     "metadata": {
      "tags": []
     },
     "output_type": "execute_result"
    }
   ],
   "source": [
    "calendar.shape"
   ]
  },
  {
   "cell_type": "markdown",
   "metadata": {
    "colab_type": "text",
    "id": "mHUG21LjiqI8"
   },
   "source": [
    "***sell_prices.csv*** contains information about the price of the products sold per store and date.\n",
    "\n",
    "For each item sold in a store located in California, Texas and Winscoin, the price of it is given with the exact time of purchase.\n",
    "\n",
    "The store and item IDs together with the sales price of the item as a weekly average.\n",
    "\n",
    "*Note: The sell_prices data has 6841121 rows and 4 columns.*"
   ]
  },
  {
   "cell_type": "code",
   "execution_count": 0,
   "metadata": {
    "colab": {
     "base_uri": "https://localhost:8080/",
     "height": 111
    },
    "colab_type": "code",
    "id": "6lhPIZisIVdQ",
    "outputId": "93fa2e7e-ad2e-4451-a5fc-d1f4a2285e1e"
   },
   "outputs": [
    {
     "data": {
      "text/html": [
       "<div>\n",
       "<style scoped>\n",
       "    .dataframe tbody tr th:only-of-type {\n",
       "        vertical-align: middle;\n",
       "    }\n",
       "\n",
       "    .dataframe tbody tr th {\n",
       "        vertical-align: top;\n",
       "    }\n",
       "\n",
       "    .dataframe thead th {\n",
       "        text-align: right;\n",
       "    }\n",
       "</style>\n",
       "<table border=\"1\" class=\"dataframe\">\n",
       "  <thead>\n",
       "    <tr style=\"text-align: right;\">\n",
       "      <th></th>\n",
       "      <th>store_id</th>\n",
       "      <th>item_id</th>\n",
       "      <th>wm_yr_wk</th>\n",
       "      <th>sell_price</th>\n",
       "    </tr>\n",
       "  </thead>\n",
       "  <tbody>\n",
       "    <tr>\n",
       "      <th>0</th>\n",
       "      <td>CA_1</td>\n",
       "      <td>HOBBIES_1_001</td>\n",
       "      <td>11325</td>\n",
       "      <td>9.58</td>\n",
       "    </tr>\n",
       "    <tr>\n",
       "      <th>1</th>\n",
       "      <td>CA_1</td>\n",
       "      <td>HOBBIES_1_001</td>\n",
       "      <td>11326</td>\n",
       "      <td>9.58</td>\n",
       "    </tr>\n",
       "  </tbody>\n",
       "</table>\n",
       "</div>"
      ],
      "text/plain": [
       "  store_id        item_id  wm_yr_wk  sell_price\n",
       "0     CA_1  HOBBIES_1_001     11325        9.58\n",
       "1     CA_1  HOBBIES_1_001     11326        9.58"
      ]
     },
     "execution_count": 4,
     "metadata": {
      "tags": []
     },
     "output_type": "execute_result"
    }
   ],
   "source": [
    "sell_prices = pd.read_csv(\"m5-forecasting-accuracy/sell_prices.csv\")\n",
    "sell_prices.head(2)"
   ]
  },
  {
   "cell_type": "code",
   "execution_count": 0,
   "metadata": {
    "colab": {},
    "colab_type": "code",
    "id": "9LIbgWsdUz0q",
    "outputId": "12e6a761-f679-44cb-dca5-5adff67a96c3"
   },
   "outputs": [
    {
     "data": {
      "text/plain": [
       "(6841121, 4)"
      ]
     },
     "execution_count": 5,
     "metadata": {
      "tags": []
     },
     "output_type": "execute_result"
    }
   ],
   "source": [
    "sell_prices.shape"
   ]
  },
  {
   "cell_type": "markdown",
   "metadata": {
    "colab_type": "text",
    "id": "KsUvAkxVjDWE"
   },
   "source": [
    "***sales_train_evaluation.csv*** is available once month before competition deadline. It will include sales from `d1` to `d1941`.\n",
    "\n",
    "It has 1 column for each of the 1941 days from 2011-01-29 and 2016-05-22; not including the validation period of 28 days until 2016-06-19. The columns d_1 to d_1913 leads to the sales of the given item in that store on the nth day for 1913 days.It also includes the IDs for item, department, category, store, and state.\n",
    "\n",
    "The unique identifier is a concatenation of item_id and store_id. As observed, there are 3049 unique items and 10 unique stores, which result in the total 30490 rows.\n",
    "\n",
    "*Note: The sales_train_evaluation data has 30490 rows and 1919 columns.*"
   ]
  },
  {
   "cell_type": "code",
   "execution_count": 0,
   "metadata": {
    "colab": {
     "base_uri": "https://localhost:8080/",
     "height": 160
    },
    "colab_type": "code",
    "id": "M0U90dNoIXUc",
    "outputId": "49b24b8e-d1b2-4e92-e488-4c0b17d2ece7"
   },
   "outputs": [
    {
     "data": {
      "text/html": [
       "<div>\n",
       "<style scoped>\n",
       "    .dataframe tbody tr th:only-of-type {\n",
       "        vertical-align: middle;\n",
       "    }\n",
       "\n",
       "    .dataframe tbody tr th {\n",
       "        vertical-align: top;\n",
       "    }\n",
       "\n",
       "    .dataframe thead th {\n",
       "        text-align: right;\n",
       "    }\n",
       "</style>\n",
       "<table border=\"1\" class=\"dataframe\">\n",
       "  <thead>\n",
       "    <tr style=\"text-align: right;\">\n",
       "      <th></th>\n",
       "      <th>id</th>\n",
       "      <th>item_id</th>\n",
       "      <th>dept_id</th>\n",
       "      <th>cat_id</th>\n",
       "      <th>store_id</th>\n",
       "      <th>state_id</th>\n",
       "      <th>d_1</th>\n",
       "      <th>d_2</th>\n",
       "      <th>d_3</th>\n",
       "      <th>d_4</th>\n",
       "      <th>...</th>\n",
       "      <th>d_1904</th>\n",
       "      <th>d_1905</th>\n",
       "      <th>d_1906</th>\n",
       "      <th>d_1907</th>\n",
       "      <th>d_1908</th>\n",
       "      <th>d_1909</th>\n",
       "      <th>d_1910</th>\n",
       "      <th>d_1911</th>\n",
       "      <th>d_1912</th>\n",
       "      <th>d_1913</th>\n",
       "    </tr>\n",
       "  </thead>\n",
       "  <tbody>\n",
       "    <tr>\n",
       "      <th>0</th>\n",
       "      <td>HOBBIES_1_001_CA_1_validation</td>\n",
       "      <td>HOBBIES_1_001</td>\n",
       "      <td>HOBBIES_1</td>\n",
       "      <td>HOBBIES</td>\n",
       "      <td>CA_1</td>\n",
       "      <td>CA</td>\n",
       "      <td>0</td>\n",
       "      <td>0</td>\n",
       "      <td>0</td>\n",
       "      <td>0</td>\n",
       "      <td>...</td>\n",
       "      <td>1</td>\n",
       "      <td>3</td>\n",
       "      <td>0</td>\n",
       "      <td>1</td>\n",
       "      <td>1</td>\n",
       "      <td>1</td>\n",
       "      <td>3</td>\n",
       "      <td>0</td>\n",
       "      <td>1</td>\n",
       "      <td>1</td>\n",
       "    </tr>\n",
       "    <tr>\n",
       "      <th>1</th>\n",
       "      <td>HOBBIES_1_002_CA_1_validation</td>\n",
       "      <td>HOBBIES_1_002</td>\n",
       "      <td>HOBBIES_1</td>\n",
       "      <td>HOBBIES</td>\n",
       "      <td>CA_1</td>\n",
       "      <td>CA</td>\n",
       "      <td>0</td>\n",
       "      <td>0</td>\n",
       "      <td>0</td>\n",
       "      <td>0</td>\n",
       "      <td>...</td>\n",
       "      <td>0</td>\n",
       "      <td>0</td>\n",
       "      <td>0</td>\n",
       "      <td>0</td>\n",
       "      <td>0</td>\n",
       "      <td>1</td>\n",
       "      <td>0</td>\n",
       "      <td>0</td>\n",
       "      <td>0</td>\n",
       "      <td>0</td>\n",
       "    </tr>\n",
       "  </tbody>\n",
       "</table>\n",
       "<p>2 rows × 1919 columns</p>\n",
       "</div>"
      ],
      "text/plain": [
       "                              id        item_id    dept_id   cat_id store_id  \\\n",
       "0  HOBBIES_1_001_CA_1_validation  HOBBIES_1_001  HOBBIES_1  HOBBIES     CA_1   \n",
       "1  HOBBIES_1_002_CA_1_validation  HOBBIES_1_002  HOBBIES_1  HOBBIES     CA_1   \n",
       "\n",
       "  state_id  d_1  d_2  d_3  d_4  ...  d_1904  d_1905  d_1906  d_1907  d_1908  \\\n",
       "0       CA    0    0    0    0  ...       1       3       0       1       1   \n",
       "1       CA    0    0    0    0  ...       0       0       0       0       0   \n",
       "\n",
       "   d_1909  d_1910  d_1911  d_1912  d_1913  \n",
       "0       1       3       0       1       1  \n",
       "1       1       0       0       0       0  \n",
       "\n",
       "[2 rows x 1919 columns]"
      ]
     },
     "execution_count": 6,
     "metadata": {
      "tags": []
     },
     "output_type": "execute_result"
    }
   ],
   "source": [
    "sell_train_validation = pd.read_csv(\"m5-forecasting-accuracy/sales_train_validation.csv\")\n",
    "sell_train_validation.head(2)"
   ]
  },
  {
   "cell_type": "code",
   "execution_count": 0,
   "metadata": {
    "colab": {},
    "colab_type": "code",
    "id": "w7rLUmzwUz0v",
    "outputId": "445ec2be-0443-49a5-9a3d-11dbcbda7f1d"
   },
   "outputs": [
    {
     "data": {
      "text/plain": [
       "(30490, 1919)"
      ]
     },
     "execution_count": 7,
     "metadata": {
      "tags": []
     },
     "output_type": "execute_result"
    }
   ],
   "source": [
    "sell_train_validation.shape"
   ]
  },
  {
   "cell_type": "markdown",
   "metadata": {
    "colab_type": "text",
    "id": "JrwSUL4ziynC"
   },
   "source": [
    "***sample_submission.csv*** includes the correct format for submissions, which is a template for the final submission file.\n",
    "\n",
    "*Note: The sample_submission data has 60980 rows and 29 columns.*"
   ]
  },
  {
   "cell_type": "code",
   "execution_count": 0,
   "metadata": {
    "colab": {},
    "colab_type": "code",
    "id": "CiQMQnLfUz0x",
    "outputId": "96b3a6ae-b43e-4b71-da37-7ddbc2c360e9"
   },
   "outputs": [
    {
     "data": {
      "text/html": [
       "<div>\n",
       "<style scoped>\n",
       "    .dataframe tbody tr th:only-of-type {\n",
       "        vertical-align: middle;\n",
       "    }\n",
       "\n",
       "    .dataframe tbody tr th {\n",
       "        vertical-align: top;\n",
       "    }\n",
       "\n",
       "    .dataframe thead th {\n",
       "        text-align: right;\n",
       "    }\n",
       "</style>\n",
       "<table border=\"1\" class=\"dataframe\">\n",
       "  <thead>\n",
       "    <tr style=\"text-align: right;\">\n",
       "      <th></th>\n",
       "      <th>id</th>\n",
       "      <th>F1</th>\n",
       "      <th>F2</th>\n",
       "      <th>F3</th>\n",
       "      <th>F4</th>\n",
       "      <th>F5</th>\n",
       "      <th>F6</th>\n",
       "      <th>F7</th>\n",
       "      <th>F8</th>\n",
       "      <th>F9</th>\n",
       "      <th>...</th>\n",
       "      <th>F19</th>\n",
       "      <th>F20</th>\n",
       "      <th>F21</th>\n",
       "      <th>F22</th>\n",
       "      <th>F23</th>\n",
       "      <th>F24</th>\n",
       "      <th>F25</th>\n",
       "      <th>F26</th>\n",
       "      <th>F27</th>\n",
       "      <th>F28</th>\n",
       "    </tr>\n",
       "  </thead>\n",
       "  <tbody>\n",
       "    <tr>\n",
       "      <th>0</th>\n",
       "      <td>HOBBIES_1_001_CA_1_validation</td>\n",
       "      <td>0</td>\n",
       "      <td>0</td>\n",
       "      <td>0</td>\n",
       "      <td>0</td>\n",
       "      <td>0</td>\n",
       "      <td>0</td>\n",
       "      <td>0</td>\n",
       "      <td>0</td>\n",
       "      <td>0</td>\n",
       "      <td>...</td>\n",
       "      <td>0</td>\n",
       "      <td>0</td>\n",
       "      <td>0</td>\n",
       "      <td>0</td>\n",
       "      <td>0</td>\n",
       "      <td>0</td>\n",
       "      <td>0</td>\n",
       "      <td>0</td>\n",
       "      <td>0</td>\n",
       "      <td>0</td>\n",
       "    </tr>\n",
       "    <tr>\n",
       "      <th>1</th>\n",
       "      <td>HOBBIES_1_002_CA_1_validation</td>\n",
       "      <td>0</td>\n",
       "      <td>0</td>\n",
       "      <td>0</td>\n",
       "      <td>0</td>\n",
       "      <td>0</td>\n",
       "      <td>0</td>\n",
       "      <td>0</td>\n",
       "      <td>0</td>\n",
       "      <td>0</td>\n",
       "      <td>...</td>\n",
       "      <td>0</td>\n",
       "      <td>0</td>\n",
       "      <td>0</td>\n",
       "      <td>0</td>\n",
       "      <td>0</td>\n",
       "      <td>0</td>\n",
       "      <td>0</td>\n",
       "      <td>0</td>\n",
       "      <td>0</td>\n",
       "      <td>0</td>\n",
       "    </tr>\n",
       "  </tbody>\n",
       "</table>\n",
       "<p>2 rows × 29 columns</p>\n",
       "</div>"
      ],
      "text/plain": [
       "                              id  F1  F2  F3  F4  F5  F6  F7  F8  F9  ...  \\\n",
       "0  HOBBIES_1_001_CA_1_validation   0   0   0   0   0   0   0   0   0  ...   \n",
       "1  HOBBIES_1_002_CA_1_validation   0   0   0   0   0   0   0   0   0  ...   \n",
       "\n",
       "   F19  F20  F21  F22  F23  F24  F25  F26  F27  F28  \n",
       "0    0    0    0    0    0    0    0    0    0    0  \n",
       "1    0    0    0    0    0    0    0    0    0    0  \n",
       "\n",
       "[2 rows x 29 columns]"
      ]
     },
     "execution_count": 8,
     "metadata": {
      "tags": []
     },
     "output_type": "execute_result"
    }
   ],
   "source": [
    "sample_submission = pd.read_csv(\"m5-forecasting-accuracy/sample_submission.csv\")\n",
    "sample_submission.head(2)"
   ]
  },
  {
   "cell_type": "code",
   "execution_count": 0,
   "metadata": {
    "colab": {},
    "colab_type": "code",
    "id": "bOkrg2CyUz0z",
    "outputId": "6246186f-ac9a-429f-d8d8-d92d549b56d0",
    "scrolled": true
   },
   "outputs": [
    {
     "data": {
      "text/plain": [
       "(60980, 29)"
      ]
     },
     "execution_count": 9,
     "metadata": {
      "tags": []
     },
     "output_type": "execute_result"
    }
   ],
   "source": [
    "sample_submission.shape"
   ]
  },
  {
   "cell_type": "markdown",
   "metadata": {
    "colab_type": "text",
    "id": "LWW2sUZwGJ-K"
   },
   "source": [
    "#### Clean Data\n",
    "\n",
    "As our dataset is quite large, so we apply a helper function for reducing memory usage."
   ]
  },
  {
   "cell_type": "code",
   "execution_count": 0,
   "metadata": {
    "colab": {},
    "colab_type": "code",
    "id": "q4_-nrfUUz03"
   },
   "outputs": [],
   "source": [
    "# Function for reducing memory usage\n",
    "\n",
    "def reduce_mem_usage(df, verbose=True):\n",
    "    numerics = ['int16', 'int32', 'int64', 'float16', 'float32', 'float64']\n",
    "    start_mem = df.memory_usage().sum() / 1024**2\n",
    "    for col in df.columns:\n",
    "        col_type = df[col].dtypes\n",
    "        if col_type in numerics:\n",
    "            c_min = df[col].min()\n",
    "            c_max = df[col].max()\n",
    "            if str(col_type)[:3] == 'int':\n",
    "                if c_min > np.iinfo(np.int8).min and c_max < np.iinfo(np.int8).max:\n",
    "                    df[col] = df[col].astype(np.int8)\n",
    "                elif c_min > np.iinfo(np.int16).min and c_max < np.iinfo(np.int16).max:\n",
    "                    df[col] = df[col].astype(np.int16)\n",
    "                elif c_min > np.iinfo(np.int32).min and c_max < np.iinfo(np.int32).max:\n",
    "                    df[col] = df[col].astype(np.int32)\n",
    "                elif c_min > np.iinfo(np.int64).min and c_max < np.iinfo(np.int64).max:\n",
    "                    df[col] = df[col].astype(np.int64)\n",
    "            else:\n",
    "                if c_min > np.finfo(np.float16).min and c_max < np.finfo(np.float16).max:\n",
    "                    df[col] = df[col].astype(np.float16)\n",
    "                elif c_min > np.finfo(np.float32).min and c_max < np.finfo(np.float32).max:\n",
    "                    df[col] = df[col].astype(np.float32)\n",
    "                else:\n",
    "                    df[col] = df[col].astype(np.float64)\n",
    "\n",
    "    end_mem = df.memory_usage().sum() / 1024**2\n",
    "    print('Memory usage after optimization is: {:.2f} MB'.format(end_mem))\n",
    "    print('Decreased by {:.1f}%'.format(100 * (start_mem - end_mem) / start_mem))\n",
    "\n",
    "    return df"
   ]
  },
  {
   "cell_type": "markdown",
   "metadata": {
    "colab_type": "text",
    "id": "PuwZIGsCqE51"
   },
   "source": [
    "Another helper function is applied to transfer strings to numbers."
   ]
  },
  {
   "cell_type": "code",
   "execution_count": 0,
   "metadata": {
    "colab": {},
    "colab_type": "code",
    "id": "OKONL54cUz05"
   },
   "outputs": [],
   "source": [
    "# Function for transferring strings to numbers\n",
    "\n",
    "def trans_to_num(columnname, dataf):\n",
    "    temps = dataf[columnname].unique()\n",
    "    df = pd.DataFrame()\n",
    "    df[columnname] = temps\n",
    "    df = df.sort_values(by=[columnname])\n",
    "    df[\"num\"] = range(len(temps))\n",
    "    dataf = dataf.merge(df, how=\"left\", on=columnname)\n",
    "    dataf[columnname] = dataf[\"num\"]\n",
    "    dataf = dataf.drop(columns=[\"num\"])\n",
    "    del temps,df\n",
    "    \n",
    "    return dataf"
   ]
  },
  {
   "cell_type": "markdown",
   "metadata": {
    "colab_type": "text",
    "id": "gbTdXeYuqPsk"
   },
   "source": [
    "For `calendar`, columns `date` and `weekday` are dropped. In addition, transfer strings to numbers on columns `event_name_1`, `event_type_1`, `event_name_2` and `event_type_2`.\n",
    "\n",
    "*Note: 70.8% of memory usage has been decreased.*"
   ]
  },
  {
   "cell_type": "code",
   "execution_count": 0,
   "metadata": {
    "colab": {},
    "colab_type": "code",
    "id": "QtR4kb8lUz07",
    "scrolled": true
   },
   "outputs": [],
   "source": [
    "# calendar\n",
    "\n",
    "calendar_new = calendar.drop(columns=[\"date\", \"weekday\"])\n",
    "calendar_new = trans_to_num(\"event_name_1\", calendar_new)\n",
    "calendar_new = trans_to_num(\"event_type_1\", calendar_new)\n",
    "calendar_new = trans_to_num(\"event_name_2\", calendar_new)\n",
    "calendar_new = trans_to_num(\"event_type_2\", calendar_new)\n",
    "calendar = calendar_new\n",
    "del calendar_new"
   ]
  },
  {
   "cell_type": "code",
   "execution_count": 0,
   "metadata": {
    "colab": {},
    "colab_type": "code",
    "id": "lGjmWFv4Uz09",
    "outputId": "602d9fa4-9ac3-47d2-f6b1-77bd8774c0c1"
   },
   "outputs": [
    {
     "name": "stdout",
     "output_type": "stream",
     "text": [
      "Memory usage after optimization is: 0.16 MB\n",
      "Decreased by 70.8%\n"
     ]
    },
    {
     "data": {
      "text/html": [
       "<div>\n",
       "<style scoped>\n",
       "    .dataframe tbody tr th:only-of-type {\n",
       "        vertical-align: middle;\n",
       "    }\n",
       "\n",
       "    .dataframe tbody tr th {\n",
       "        vertical-align: top;\n",
       "    }\n",
       "\n",
       "    .dataframe thead th {\n",
       "        text-align: right;\n",
       "    }\n",
       "</style>\n",
       "<table border=\"1\" class=\"dataframe\">\n",
       "  <thead>\n",
       "    <tr style=\"text-align: right;\">\n",
       "      <th></th>\n",
       "      <th>wm_yr_wk</th>\n",
       "      <th>wday</th>\n",
       "      <th>month</th>\n",
       "      <th>year</th>\n",
       "      <th>event_name_1</th>\n",
       "      <th>event_type_1</th>\n",
       "      <th>event_name_2</th>\n",
       "      <th>event_type_2</th>\n",
       "      <th>state_id</th>\n",
       "      <th>snap</th>\n",
       "      <th>d_n</th>\n",
       "    </tr>\n",
       "  </thead>\n",
       "  <tbody>\n",
       "    <tr>\n",
       "      <th>0</th>\n",
       "      <td>11101</td>\n",
       "      <td>1</td>\n",
       "      <td>1</td>\n",
       "      <td>2011</td>\n",
       "      <td>30</td>\n",
       "      <td>4</td>\n",
       "      <td>4</td>\n",
       "      <td>2</td>\n",
       "      <td>0</td>\n",
       "      <td>0</td>\n",
       "      <td>1</td>\n",
       "    </tr>\n",
       "    <tr>\n",
       "      <th>1</th>\n",
       "      <td>11101</td>\n",
       "      <td>1</td>\n",
       "      <td>1</td>\n",
       "      <td>2011</td>\n",
       "      <td>30</td>\n",
       "      <td>4</td>\n",
       "      <td>4</td>\n",
       "      <td>2</td>\n",
       "      <td>1</td>\n",
       "      <td>0</td>\n",
       "      <td>1</td>\n",
       "    </tr>\n",
       "  </tbody>\n",
       "</table>\n",
       "</div>"
      ],
      "text/plain": [
       "   wm_yr_wk  wday  month  year  event_name_1  event_type_1  event_name_2  \\\n",
       "0     11101     1      1  2011            30             4             4   \n",
       "1     11101     1      1  2011            30             4             4   \n",
       "\n",
       "   event_type_2  state_id  snap  d_n  \n",
       "0             2         0     0    1  \n",
       "1             2         1     0    1  "
      ]
     },
     "execution_count": 13,
     "metadata": {
      "tags": []
     },
     "output_type": "execute_result"
    }
   ],
   "source": [
    "# calendar\n",
    "\n",
    "temps1 = calendar[calendar.columns[0:9]]\n",
    "temps2 = pd.DataFrame(np.repeat(temps1.values, len(calendar.columns[9:]), axis=0))\n",
    "temps2.columns = temps1.columns\n",
    "\n",
    "# stack snap-columns\n",
    "\n",
    "temps3 = calendar[calendar.columns[9:]]\n",
    "temps3 = np.array(temps3.stack())\n",
    "\n",
    "# concate together\n",
    "\n",
    "temps4 = pd.DataFrame()\n",
    "temps4[\"state_id\"] = np.array([\"CA\", \"TX\", \"WI\"])\n",
    "temps4 = pd.concat([temps4]*len(calendar), ignore_index=True)\n",
    "temps5 = pd.concat([temps2, pd.Series(temps4[\"state_id\"], name=\"state_id\"), pd.Series(temps3, name=\"snap\")], axis=1)\n",
    "calendar = temps5\n",
    "calendar[calendar.columns[[0,1,2,3,5,6,7,8,10]]]=calendar[calendar.columns[[0,1,2,3,5,6,7,8,10]]].apply(pd.to_numeric)\n",
    "calendar = trans_to_num(\"state_id\", calendar)\n",
    "calendar = reduce_mem_usage(calendar)\n",
    "del temps1, temps2, temps3, temps4, temps5\n",
    "\n",
    "calendar[\"d_n\"] = calendar[\"d\"].map(lambda x: int(x[2:]))\n",
    "calendar = calendar.drop(columns=[\"d\"])\n",
    "calendar = calendar.sort_values(by=[\"d_n\", \"state_id\"])\n",
    "calendar = calendar[calendar.d_n<=1913+28]\n",
    "calendar.head(2)"
   ]
  },
  {
   "cell_type": "markdown",
   "metadata": {
    "colab_type": "text",
    "id": "sHlHZSQ4sHwZ"
   },
   "source": [
    "For `sell_prices`, a new column `id` is added, which combines `item_id` and `store_id`.\n",
    "\n",
    "*Note: 30.0% of memory usage has been decreased.*"
   ]
  },
  {
   "cell_type": "code",
   "execution_count": 0,
   "metadata": {
    "colab": {},
    "colab_type": "code",
    "id": "lZwpwTE1Uz0_",
    "outputId": "01eb5766-8d21-4b42-abf6-d196944fa72b"
   },
   "outputs": [
    {
     "name": "stdout",
     "output_type": "stream",
     "text": [
      "Memory usage after optimization is: 182.68 MB\n",
      "Decreased by 30.0%\n"
     ]
    },
    {
     "data": {
      "text/html": [
       "<div>\n",
       "<style scoped>\n",
       "    .dataframe tbody tr th:only-of-type {\n",
       "        vertical-align: middle;\n",
       "    }\n",
       "\n",
       "    .dataframe tbody tr th {\n",
       "        vertical-align: top;\n",
       "    }\n",
       "\n",
       "    .dataframe thead th {\n",
       "        text-align: right;\n",
       "    }\n",
       "</style>\n",
       "<table border=\"1\" class=\"dataframe\">\n",
       "  <thead>\n",
       "    <tr style=\"text-align: right;\">\n",
       "      <th></th>\n",
       "      <th>store_id</th>\n",
       "      <th>item_id</th>\n",
       "      <th>wm_yr_wk</th>\n",
       "      <th>sell_price</th>\n",
       "      <th>id</th>\n",
       "    </tr>\n",
       "  </thead>\n",
       "  <tbody>\n",
       "    <tr>\n",
       "      <th>0</th>\n",
       "      <td>CA_1</td>\n",
       "      <td>HOBBIES_1_001</td>\n",
       "      <td>11325</td>\n",
       "      <td>9.578125</td>\n",
       "      <td>HOBBIES_1_001_CA_1_validation</td>\n",
       "    </tr>\n",
       "    <tr>\n",
       "      <th>1</th>\n",
       "      <td>CA_1</td>\n",
       "      <td>HOBBIES_1_001</td>\n",
       "      <td>11326</td>\n",
       "      <td>9.578125</td>\n",
       "      <td>HOBBIES_1_001_CA_1_validation</td>\n",
       "    </tr>\n",
       "  </tbody>\n",
       "</table>\n",
       "</div>"
      ],
      "text/plain": [
       "  store_id        item_id  wm_yr_wk  sell_price                             id\n",
       "0     CA_1  HOBBIES_1_001     11325    9.578125  HOBBIES_1_001_CA_1_validation\n",
       "1     CA_1  HOBBIES_1_001     11326    9.578125  HOBBIES_1_001_CA_1_validation"
      ]
     },
     "execution_count": 14,
     "metadata": {
      "tags": []
     },
     "output_type": "execute_result"
    }
   ],
   "source": [
    "# sell_prices\n",
    "\n",
    "sell_prices[\"id\"] = sell_prices[\"item_id\"] + \"_\" + sell_prices[\"store_id\"] + \"_validation\"\n",
    "sell_prices = reduce_mem_usage(sell_prices)\n",
    "sell_prices.head(2)"
   ]
  },
  {
   "cell_type": "markdown",
   "metadata": {
    "colab_type": "text",
    "id": "4N8vZxzuwSVm"
   },
   "source": [
    "For `sell_train_validation`, firstly, transfer strings to numbers on columns `item_id`, `dept_id`, `cat_id`, `store_id` and `state_id` ,and drop the column `id`.\n",
    "\n",
    "Then, `day-sale-columns` is stacked and a new column `d_n` is created to represent the number of days. \n",
    "\n",
    "At last, all separate parts are concated together.\n",
    "\n",
    "*Note: 61.5% of memory usage has been decreased.*"
   ]
  },
  {
   "cell_type": "code",
   "execution_count": 0,
   "metadata": {
    "colab": {},
    "colab_type": "code",
    "id": "gXBTl9W1Uz1B",
    "outputId": "96b32abd-bf96-4c25-f327-854c9afe2a61"
   },
   "outputs": [
    {
     "name": "stdout",
     "output_type": "stream",
     "text": [
      "Memory usage after optimization is: 0.41 MB\n",
      "Decreased by 70.8%\n",
      "Memory usage after optimization is: 556.25 MB\n",
      "Decreased by 61.5%\n"
     ]
    },
    {
     "data": {
      "text/html": [
       "<div>\n",
       "<style scoped>\n",
       "    .dataframe tbody tr th:only-of-type {\n",
       "        vertical-align: middle;\n",
       "    }\n",
       "\n",
       "    .dataframe tbody tr th {\n",
       "        vertical-align: top;\n",
       "    }\n",
       "\n",
       "    .dataframe thead th {\n",
       "        text-align: right;\n",
       "    }\n",
       "</style>\n",
       "<table border=\"1\" class=\"dataframe\">\n",
       "  <thead>\n",
       "    <tr style=\"text-align: right;\">\n",
       "      <th></th>\n",
       "      <th>item_id</th>\n",
       "      <th>dept_id</th>\n",
       "      <th>cat_id</th>\n",
       "      <th>store_id</th>\n",
       "      <th>state_id</th>\n",
       "      <th>d_n</th>\n",
       "      <th>sales</th>\n",
       "    </tr>\n",
       "  </thead>\n",
       "  <tbody>\n",
       "    <tr>\n",
       "      <th>0</th>\n",
       "      <td>1437</td>\n",
       "      <td>3</td>\n",
       "      <td>1</td>\n",
       "      <td>0</td>\n",
       "      <td>0</td>\n",
       "      <td>1</td>\n",
       "      <td>0</td>\n",
       "    </tr>\n",
       "    <tr>\n",
       "      <th>1</th>\n",
       "      <td>1437</td>\n",
       "      <td>3</td>\n",
       "      <td>1</td>\n",
       "      <td>0</td>\n",
       "      <td>0</td>\n",
       "      <td>2</td>\n",
       "      <td>0</td>\n",
       "    </tr>\n",
       "  </tbody>\n",
       "</table>\n",
       "</div>"
      ],
      "text/plain": [
       "   item_id  dept_id  cat_id  store_id  state_id  d_n  sales\n",
       "0     1437        3       1         0         0    1      0\n",
       "1     1437        3       1         0         0    2      0"
      ]
     },
     "execution_count": 15,
     "metadata": {
      "tags": []
     },
     "output_type": "execute_result"
    }
   ],
   "source": [
    "# sell_train_validation\n",
    "\n",
    "temps1 = sell_train_validation[sell_train_validation.columns[0:6]]\n",
    "temps1 = trans_to_num(\"item_id\", temps1)\n",
    "temps1 = trans_to_num(\"dept_id\", temps1)\n",
    "temps1 = trans_to_num(\"cat_id\", temps1)\n",
    "temps1 = trans_to_num(\"store_id\", temps1)\n",
    "temps1 = trans_to_num(\"state_id\", temps1)\n",
    "temps1 = temps1.drop(columns=[\"id\"]).copy()\n",
    "temps1 = reduce_mem_usage(temps1)\n",
    "temps2 = pd.DataFrame(np.repeat(temps1.values, len(sell_train_validation.columns[6:]), axis=0))\n",
    "temps2.columns = temps1.columns\n",
    "\n",
    "# stack day-sale-columns\n",
    "\n",
    "temps3 = sell_train_validation[sell_train_validation.columns[6:]]\n",
    "temps3 = np.array(temps3.stack())\n",
    "\n",
    "# concate together\n",
    "\n",
    "temps4 = pd.DataFrame()\n",
    "temps4[\"d\"] = np.array(sell_train_validation.columns[6:])\n",
    "temps4[\"d_n\"] = temps4[\"d\"].map(lambda x: int(x[2:]))\n",
    "temps4 = temps4.drop(columns=[\"d\"]).copy()\n",
    "temps4 = pd.concat([temps4]*len(sell_train_validation), ignore_index=True)\n",
    "sales = pd.concat([temps2, temps4, pd.Series(temps3,name=\"sales\")], axis=1)\n",
    "sales = reduce_mem_usage(sales)\n",
    "del temps1, temps2, temps3, temps4, sell_train_validation\n",
    "\n",
    "sales.head(2)"
   ]
  },
  {
   "cell_type": "markdown",
   "metadata": {
    "colab_type": "text",
    "id": "daatcwskxjjV"
   },
   "source": [
    "For `sample_submission`, firstly, the columns `item_id`, `dept_id`, `cat_id`, `store_id` and `state_id` are slightly modified on length and transferred from strings to numbers.\n",
    "\n",
    "Then, `day-sale-columns` is stacked.\n",
    "At last, all separate parts are concated together.\n",
    "\n",
    "*Note: 65.4% of memory usage has been decreased.*"
   ]
  },
  {
   "cell_type": "code",
   "execution_count": 0,
   "metadata": {
    "colab": {},
    "colab_type": "code",
    "id": "K576B38KUz1D",
    "outputId": "96f3db9c-bf23-4959-ee32-e8b471824e59"
   },
   "outputs": [
    {
     "data": {
      "text/html": [
       "<div>\n",
       "<style scoped>\n",
       "    .dataframe tbody tr th:only-of-type {\n",
       "        vertical-align: middle;\n",
       "    }\n",
       "\n",
       "    .dataframe tbody tr th {\n",
       "        vertical-align: top;\n",
       "    }\n",
       "\n",
       "    .dataframe thead th {\n",
       "        text-align: right;\n",
       "    }\n",
       "</style>\n",
       "<table border=\"1\" class=\"dataframe\">\n",
       "  <thead>\n",
       "    <tr style=\"text-align: right;\">\n",
       "      <th></th>\n",
       "      <th>id</th>\n",
       "      <th>F1</th>\n",
       "      <th>F2</th>\n",
       "      <th>F3</th>\n",
       "      <th>F4</th>\n",
       "      <th>F5</th>\n",
       "      <th>F6</th>\n",
       "      <th>F7</th>\n",
       "      <th>F8</th>\n",
       "      <th>F9</th>\n",
       "      <th>...</th>\n",
       "      <th>F19</th>\n",
       "      <th>F20</th>\n",
       "      <th>F21</th>\n",
       "      <th>F22</th>\n",
       "      <th>F23</th>\n",
       "      <th>F24</th>\n",
       "      <th>F25</th>\n",
       "      <th>F26</th>\n",
       "      <th>F27</th>\n",
       "      <th>F28</th>\n",
       "    </tr>\n",
       "  </thead>\n",
       "  <tbody>\n",
       "    <tr>\n",
       "      <th>0</th>\n",
       "      <td>HOBBIES_1_001_CA_1_validation</td>\n",
       "      <td>0</td>\n",
       "      <td>0</td>\n",
       "      <td>0</td>\n",
       "      <td>0</td>\n",
       "      <td>0</td>\n",
       "      <td>0</td>\n",
       "      <td>0</td>\n",
       "      <td>0</td>\n",
       "      <td>0</td>\n",
       "      <td>...</td>\n",
       "      <td>0</td>\n",
       "      <td>0</td>\n",
       "      <td>0</td>\n",
       "      <td>0</td>\n",
       "      <td>0</td>\n",
       "      <td>0</td>\n",
       "      <td>0</td>\n",
       "      <td>0</td>\n",
       "      <td>0</td>\n",
       "      <td>0</td>\n",
       "    </tr>\n",
       "    <tr>\n",
       "      <th>1</th>\n",
       "      <td>HOBBIES_1_002_CA_1_validation</td>\n",
       "      <td>0</td>\n",
       "      <td>0</td>\n",
       "      <td>0</td>\n",
       "      <td>0</td>\n",
       "      <td>0</td>\n",
       "      <td>0</td>\n",
       "      <td>0</td>\n",
       "      <td>0</td>\n",
       "      <td>0</td>\n",
       "      <td>...</td>\n",
       "      <td>0</td>\n",
       "      <td>0</td>\n",
       "      <td>0</td>\n",
       "      <td>0</td>\n",
       "      <td>0</td>\n",
       "      <td>0</td>\n",
       "      <td>0</td>\n",
       "      <td>0</td>\n",
       "      <td>0</td>\n",
       "      <td>0</td>\n",
       "    </tr>\n",
       "    <tr>\n",
       "      <th>2</th>\n",
       "      <td>HOBBIES_1_003_CA_1_validation</td>\n",
       "      <td>0</td>\n",
       "      <td>0</td>\n",
       "      <td>0</td>\n",
       "      <td>0</td>\n",
       "      <td>0</td>\n",
       "      <td>0</td>\n",
       "      <td>0</td>\n",
       "      <td>0</td>\n",
       "      <td>0</td>\n",
       "      <td>...</td>\n",
       "      <td>0</td>\n",
       "      <td>0</td>\n",
       "      <td>0</td>\n",
       "      <td>0</td>\n",
       "      <td>0</td>\n",
       "      <td>0</td>\n",
       "      <td>0</td>\n",
       "      <td>0</td>\n",
       "      <td>0</td>\n",
       "      <td>0</td>\n",
       "    </tr>\n",
       "    <tr>\n",
       "      <th>3</th>\n",
       "      <td>HOBBIES_1_004_CA_1_validation</td>\n",
       "      <td>0</td>\n",
       "      <td>0</td>\n",
       "      <td>0</td>\n",
       "      <td>0</td>\n",
       "      <td>0</td>\n",
       "      <td>0</td>\n",
       "      <td>0</td>\n",
       "      <td>0</td>\n",
       "      <td>0</td>\n",
       "      <td>...</td>\n",
       "      <td>0</td>\n",
       "      <td>0</td>\n",
       "      <td>0</td>\n",
       "      <td>0</td>\n",
       "      <td>0</td>\n",
       "      <td>0</td>\n",
       "      <td>0</td>\n",
       "      <td>0</td>\n",
       "      <td>0</td>\n",
       "      <td>0</td>\n",
       "    </tr>\n",
       "    <tr>\n",
       "      <th>4</th>\n",
       "      <td>HOBBIES_1_005_CA_1_validation</td>\n",
       "      <td>0</td>\n",
       "      <td>0</td>\n",
       "      <td>0</td>\n",
       "      <td>0</td>\n",
       "      <td>0</td>\n",
       "      <td>0</td>\n",
       "      <td>0</td>\n",
       "      <td>0</td>\n",
       "      <td>0</td>\n",
       "      <td>...</td>\n",
       "      <td>0</td>\n",
       "      <td>0</td>\n",
       "      <td>0</td>\n",
       "      <td>0</td>\n",
       "      <td>0</td>\n",
       "      <td>0</td>\n",
       "      <td>0</td>\n",
       "      <td>0</td>\n",
       "      <td>0</td>\n",
       "      <td>0</td>\n",
       "    </tr>\n",
       "  </tbody>\n",
       "</table>\n",
       "<p>5 rows × 29 columns</p>\n",
       "</div>"
      ],
      "text/plain": [
       "                              id  F1  F2  F3  F4  F5  F6  F7  F8  F9  ...  \\\n",
       "0  HOBBIES_1_001_CA_1_validation   0   0   0   0   0   0   0   0   0  ...   \n",
       "1  HOBBIES_1_002_CA_1_validation   0   0   0   0   0   0   0   0   0  ...   \n",
       "2  HOBBIES_1_003_CA_1_validation   0   0   0   0   0   0   0   0   0  ...   \n",
       "3  HOBBIES_1_004_CA_1_validation   0   0   0   0   0   0   0   0   0  ...   \n",
       "4  HOBBIES_1_005_CA_1_validation   0   0   0   0   0   0   0   0   0  ...   \n",
       "\n",
       "   F19  F20  F21  F22  F23  F24  F25  F26  F27  F28  \n",
       "0    0    0    0    0    0    0    0    0    0    0  \n",
       "1    0    0    0    0    0    0    0    0    0    0  \n",
       "2    0    0    0    0    0    0    0    0    0    0  \n",
       "3    0    0    0    0    0    0    0    0    0    0  \n",
       "4    0    0    0    0    0    0    0    0    0    0  \n",
       "\n",
       "[5 rows x 29 columns]"
      ]
     },
     "execution_count": 16,
     "metadata": {
      "tags": []
     },
     "output_type": "execute_result"
    }
   ],
   "source": [
    "sample_submission.head()"
   ]
  },
  {
   "cell_type": "code",
   "execution_count": 0,
   "metadata": {
    "colab": {},
    "colab_type": "code",
    "id": "zb89yJAoUz1G",
    "outputId": "0387eaae-e178-4ffe-b021-dd0433f592f2"
   },
   "outputs": [
    {
     "name": "stdout",
     "output_type": "stream",
     "text": [
      "Memory usage after optimization is: 0.64 MB\n",
      "Decreased by 60.7%\n",
      "Memory usage after optimization is: 7.33 MB\n",
      "Decreased by 65.4%\n"
     ]
    },
    {
     "data": {
      "text/html": [
       "<div>\n",
       "<style scoped>\n",
       "    .dataframe tbody tr th:only-of-type {\n",
       "        vertical-align: middle;\n",
       "    }\n",
       "\n",
       "    .dataframe tbody tr th {\n",
       "        vertical-align: top;\n",
       "    }\n",
       "\n",
       "    .dataframe thead th {\n",
       "        text-align: right;\n",
       "    }\n",
       "</style>\n",
       "<table border=\"1\" class=\"dataframe\">\n",
       "  <thead>\n",
       "    <tr style=\"text-align: right;\">\n",
       "      <th></th>\n",
       "      <th>item_id</th>\n",
       "      <th>dept_id</th>\n",
       "      <th>cat_id</th>\n",
       "      <th>store_id</th>\n",
       "      <th>state_id</th>\n",
       "      <th>d_n</th>\n",
       "      <th>sales</th>\n",
       "    </tr>\n",
       "  </thead>\n",
       "  <tbody>\n",
       "    <tr>\n",
       "      <th>0</th>\n",
       "      <td>1437</td>\n",
       "      <td>3</td>\n",
       "      <td>1</td>\n",
       "      <td>0</td>\n",
       "      <td>0</td>\n",
       "      <td>1914</td>\n",
       "      <td>0</td>\n",
       "    </tr>\n",
       "    <tr>\n",
       "      <th>1</th>\n",
       "      <td>1437</td>\n",
       "      <td>3</td>\n",
       "      <td>1</td>\n",
       "      <td>0</td>\n",
       "      <td>0</td>\n",
       "      <td>1915</td>\n",
       "      <td>0</td>\n",
       "    </tr>\n",
       "  </tbody>\n",
       "</table>\n",
       "</div>"
      ],
      "text/plain": [
       "   item_id  dept_id  cat_id  store_id  state_id   d_n  sales\n",
       "0     1437        3       1         0         0  1914      0\n",
       "1     1437        3       1         0         0  1915      0"
      ]
     },
     "execution_count": 17,
     "metadata": {
      "tags": []
     },
     "output_type": "execute_result"
    }
   ],
   "source": [
    "# sample_submission\n",
    "\n",
    "sample_submission = sample_submission[sample_submission[\"id\"].str.contains(\"validation\")]\n",
    "sample_submission[\"item_id\"] = sample_submission.id.map(lambda x: x[:-16])\n",
    "sample_submission[\"dept_id\"] = sample_submission.id.map(lambda x: x[:-20])\n",
    "sample_submission[\"cat_id\"] = sample_submission.id.map(lambda x: x[:-22])\n",
    "sample_submission[\"store_id\"] = sample_submission.id.map(lambda x: x[-15:-11])\n",
    "sample_submission[\"state_id\"] = sample_submission.id.map(lambda x: x[-15:-13])\n",
    "\n",
    "temps1 = sample_submission[sample_submission.columns[[0,29,30,31,32,33]]]\n",
    "temps1 = trans_to_num(\"item_id\",temps1)\n",
    "temps1 = trans_to_num(\"dept_id\",temps1)\n",
    "temps1 = trans_to_num(\"cat_id\",temps1)\n",
    "temps1 = trans_to_num(\"store_id\",temps1)\n",
    "temps1 = trans_to_num(\"state_id\",temps1)\n",
    "temps1 = reduce_mem_usage(temps1)\n",
    "\n",
    "sample_id = temps1.copy() \n",
    "temps1 = temps1.drop(columns=[\"id\"]).copy()\n",
    "temps2 = pd.DataFrame(np.repeat(temps1.values, 28, axis=0))\n",
    "temps2.columns = temps1.columns\n",
    "\n",
    "# stack day-sale-columns\n",
    "\n",
    "temps3 = sample_submission[sample_submission.columns[1:29]]\n",
    "temps3 = np.array(temps3.stack())\n",
    "\n",
    "# concate together\n",
    "\n",
    "temps4 = pd.DataFrame()\n",
    "temps4[\"d_n\"] = np.array(range(1914, 1942))\n",
    "temps4 = pd.concat([temps4]*len(sample_submission), ignore_index=True)\n",
    "sample = pd.concat([temps2, temps4, pd.Series(temps3, name=\"sales\")], axis=1)\n",
    "sample_submission = reduce_mem_usage(sample)\n",
    "del temps1, temps2, temps3, temps4, sample\n",
    "\n",
    "sample_submission.head(2)"
   ]
  },
  {
   "cell_type": "markdown",
   "metadata": {
    "colab_type": "text",
    "id": "0sMoCBtjUz1I"
   },
   "source": [
    "*Note: **sample_id** is a dataframe that `hold id`, `item_id`, `dept_id`, `cat_id`, `store_id`, and `state_id`.*"
   ]
  },
  {
   "cell_type": "code",
   "execution_count": 0,
   "metadata": {
    "colab": {},
    "colab_type": "code",
    "id": "bYANRwUEUz1I",
    "outputId": "0f0887f1-b6aa-492e-f20b-543840ad730c"
   },
   "outputs": [
    {
     "data": {
      "text/html": [
       "<div>\n",
       "<style scoped>\n",
       "    .dataframe tbody tr th:only-of-type {\n",
       "        vertical-align: middle;\n",
       "    }\n",
       "\n",
       "    .dataframe tbody tr th {\n",
       "        vertical-align: top;\n",
       "    }\n",
       "\n",
       "    .dataframe thead th {\n",
       "        text-align: right;\n",
       "    }\n",
       "</style>\n",
       "<table border=\"1\" class=\"dataframe\">\n",
       "  <thead>\n",
       "    <tr style=\"text-align: right;\">\n",
       "      <th></th>\n",
       "      <th>id</th>\n",
       "      <th>item_id</th>\n",
       "      <th>dept_id</th>\n",
       "      <th>cat_id</th>\n",
       "      <th>store_id</th>\n",
       "      <th>state_id</th>\n",
       "    </tr>\n",
       "  </thead>\n",
       "  <tbody>\n",
       "    <tr>\n",
       "      <th>0</th>\n",
       "      <td>HOBBIES_1_001_CA_1_validation</td>\n",
       "      <td>1437</td>\n",
       "      <td>3</td>\n",
       "      <td>1</td>\n",
       "      <td>0</td>\n",
       "      <td>0</td>\n",
       "    </tr>\n",
       "    <tr>\n",
       "      <th>1</th>\n",
       "      <td>HOBBIES_1_002_CA_1_validation</td>\n",
       "      <td>1438</td>\n",
       "      <td>3</td>\n",
       "      <td>1</td>\n",
       "      <td>0</td>\n",
       "      <td>0</td>\n",
       "    </tr>\n",
       "  </tbody>\n",
       "</table>\n",
       "</div>"
      ],
      "text/plain": [
       "                              id  item_id  dept_id  cat_id  store_id  state_id\n",
       "0  HOBBIES_1_001_CA_1_validation     1437        3       1         0         0\n",
       "1  HOBBIES_1_002_CA_1_validation     1438        3       1         0         0"
      ]
     },
     "execution_count": 18,
     "metadata": {
      "tags": []
     },
     "output_type": "execute_result"
    }
   ],
   "source": [
    "sample_id.head(2)"
   ]
  },
  {
   "cell_type": "markdown",
   "metadata": {
    "colab_type": "text",
    "id": "UIqk9WaTUz1K"
   },
   "source": [
    "#### Merge data\n",
    "\n",
    "In order to progress the further prediction procedure, we construct a dataframe named `sales`, which is a dataframe that combines another three dataframes (`calandar`, `sell_prices`, `sell_train_validation`)."
   ]
  },
  {
   "cell_type": "code",
   "execution_count": 0,
   "metadata": {
    "colab": {},
    "colab_type": "code",
    "id": "vbtz8pDDUz1K",
    "outputId": "e97f2bb1-767d-4453-819c-f872aafdfd26"
   },
   "outputs": [
    {
     "name": "stdout",
     "output_type": "stream",
     "text": [
      "Memory usage after optimization is: 22.80 MB\n",
      "Decreased by 20.0%\n"
     ]
    },
    {
     "data": {
      "text/html": [
       "<div>\n",
       "<style scoped>\n",
       "    .dataframe tbody tr th:only-of-type {\n",
       "        vertical-align: middle;\n",
       "    }\n",
       "\n",
       "    .dataframe tbody tr th {\n",
       "        vertical-align: top;\n",
       "    }\n",
       "\n",
       "    .dataframe thead th {\n",
       "        text-align: right;\n",
       "    }\n",
       "</style>\n",
       "<table border=\"1\" class=\"dataframe\">\n",
       "  <thead>\n",
       "    <tr style=\"text-align: right;\">\n",
       "      <th></th>\n",
       "      <th>item_id</th>\n",
       "      <th>dept_id</th>\n",
       "      <th>cat_id</th>\n",
       "      <th>store_id</th>\n",
       "      <th>state_id</th>\n",
       "      <th>d_n</th>\n",
       "      <th>sales</th>\n",
       "      <th>wm_yr_wk</th>\n",
       "      <th>wday</th>\n",
       "      <th>month</th>\n",
       "      <th>year</th>\n",
       "      <th>event_name_1</th>\n",
       "      <th>event_type_1</th>\n",
       "      <th>event_name_2</th>\n",
       "      <th>event_type_2</th>\n",
       "      <th>snap</th>\n",
       "    </tr>\n",
       "  </thead>\n",
       "  <tbody>\n",
       "    <tr>\n",
       "      <th>0</th>\n",
       "      <td>1437</td>\n",
       "      <td>3</td>\n",
       "      <td>1</td>\n",
       "      <td>0</td>\n",
       "      <td>0</td>\n",
       "      <td>1914</td>\n",
       "      <td>0</td>\n",
       "      <td>11613</td>\n",
       "      <td>3</td>\n",
       "      <td>4</td>\n",
       "      <td>2016</td>\n",
       "      <td>30</td>\n",
       "      <td>4</td>\n",
       "      <td>4</td>\n",
       "      <td>2</td>\n",
       "      <td>0</td>\n",
       "    </tr>\n",
       "    <tr>\n",
       "      <th>1</th>\n",
       "      <td>1437</td>\n",
       "      <td>3</td>\n",
       "      <td>1</td>\n",
       "      <td>0</td>\n",
       "      <td>0</td>\n",
       "      <td>1915</td>\n",
       "      <td>0</td>\n",
       "      <td>11613</td>\n",
       "      <td>4</td>\n",
       "      <td>4</td>\n",
       "      <td>2016</td>\n",
       "      <td>30</td>\n",
       "      <td>4</td>\n",
       "      <td>4</td>\n",
       "      <td>2</td>\n",
       "      <td>0</td>\n",
       "    </tr>\n",
       "  </tbody>\n",
       "</table>\n",
       "</div>"
      ],
      "text/plain": [
       "   item_id  dept_id  cat_id  store_id  state_id   d_n  sales  wm_yr_wk  wday  \\\n",
       "0     1437        3       1         0         0  1914      0     11613     3   \n",
       "1     1437        3       1         0         0  1915      0     11613     4   \n",
       "\n",
       "   month  year  event_name_1  event_type_1  event_name_2  event_type_2  snap  \n",
       "0      4  2016            30             4             4             2     0  \n",
       "1      4  2016            30             4             4             2     0  "
      ]
     },
     "execution_count": 19,
     "metadata": {
      "tags": []
     },
     "output_type": "execute_result"
    }
   ],
   "source": [
    "# sample_submission merge calendar\n",
    "\n",
    "sample = sample_submission.copy()\n",
    "sample = pd.merge(sample, calendar, how=\"left\", left_on=[\"d_n\", \"state_id\"], right_on = [\"d_n\", \"state_id\"])\n",
    "sample = trans_to_num(\"state_id\", sample)\n",
    "sample_submission = reduce_mem_usage(sample)\n",
    "del sample\n",
    "\n",
    "sample_submission.head(2)                    "
   ]
  },
  {
   "cell_type": "code",
   "execution_count": 0,
   "metadata": {
    "colab": {},
    "colab_type": "code",
    "id": "-fXJeq94Uz1M",
    "outputId": "06dec23c-fbf8-4011-ca39-bc4bb62d001b"
   },
   "outputs": [
    {
     "name": "stdout",
     "output_type": "stream",
     "text": [
      "Memory usage after optimization is: 1613.13 MB\n",
      "Decreased by 19.4%\n"
     ]
    },
    {
     "data": {
      "text/html": [
       "<div>\n",
       "<style scoped>\n",
       "    .dataframe tbody tr th:only-of-type {\n",
       "        vertical-align: middle;\n",
       "    }\n",
       "\n",
       "    .dataframe tbody tr th {\n",
       "        vertical-align: top;\n",
       "    }\n",
       "\n",
       "    .dataframe thead th {\n",
       "        text-align: right;\n",
       "    }\n",
       "</style>\n",
       "<table border=\"1\" class=\"dataframe\">\n",
       "  <thead>\n",
       "    <tr style=\"text-align: right;\">\n",
       "      <th></th>\n",
       "      <th>item_id</th>\n",
       "      <th>dept_id</th>\n",
       "      <th>cat_id</th>\n",
       "      <th>store_id</th>\n",
       "      <th>state_id</th>\n",
       "      <th>d_n</th>\n",
       "      <th>sales</th>\n",
       "      <th>wm_yr_wk</th>\n",
       "      <th>wday</th>\n",
       "      <th>month</th>\n",
       "      <th>year</th>\n",
       "      <th>event_name_1</th>\n",
       "      <th>event_type_1</th>\n",
       "      <th>event_name_2</th>\n",
       "      <th>event_type_2</th>\n",
       "      <th>snap</th>\n",
       "    </tr>\n",
       "  </thead>\n",
       "  <tbody>\n",
       "    <tr>\n",
       "      <th>0</th>\n",
       "      <td>1437</td>\n",
       "      <td>3</td>\n",
       "      <td>1</td>\n",
       "      <td>0</td>\n",
       "      <td>0</td>\n",
       "      <td>1</td>\n",
       "      <td>0</td>\n",
       "      <td>11101</td>\n",
       "      <td>1</td>\n",
       "      <td>1</td>\n",
       "      <td>2011</td>\n",
       "      <td>30</td>\n",
       "      <td>4</td>\n",
       "      <td>4</td>\n",
       "      <td>2</td>\n",
       "      <td>0</td>\n",
       "    </tr>\n",
       "    <tr>\n",
       "      <th>1</th>\n",
       "      <td>1437</td>\n",
       "      <td>3</td>\n",
       "      <td>1</td>\n",
       "      <td>0</td>\n",
       "      <td>0</td>\n",
       "      <td>2</td>\n",
       "      <td>0</td>\n",
       "      <td>11101</td>\n",
       "      <td>2</td>\n",
       "      <td>1</td>\n",
       "      <td>2011</td>\n",
       "      <td>30</td>\n",
       "      <td>4</td>\n",
       "      <td>4</td>\n",
       "      <td>2</td>\n",
       "      <td>0</td>\n",
       "    </tr>\n",
       "  </tbody>\n",
       "</table>\n",
       "</div>"
      ],
      "text/plain": [
       "   item_id  dept_id  cat_id  store_id  state_id  d_n  sales  wm_yr_wk  wday  \\\n",
       "0     1437        3       1         0         0    1      0     11101     1   \n",
       "1     1437        3       1         0         0    2      0     11101     2   \n",
       "\n",
       "   month  year  event_name_1  event_type_1  event_name_2  event_type_2  snap  \n",
       "0      1  2011            30             4             4             2     0  \n",
       "1      1  2011            30             4             4             2     0  "
      ]
     },
     "execution_count": 20,
     "metadata": {
      "tags": []
     },
     "output_type": "execute_result"
    }
   ],
   "source": [
    "# sales merge calendar\n",
    "\n",
    "sales_new = sales.copy()\n",
    "sales_new = pd.merge(sales_new, calendar, how=\"left\", left_on=[\"d_n\", \"state_id\"], right_on = [\"d_n\", \"state_id\"])\n",
    "del calendar\n",
    "\n",
    "sales_new = trans_to_num(\"state_id\", sales_new)\n",
    "sales = reduce_mem_usage(sales_new)\n",
    "del sales_new\n",
    "\n",
    "sales.head(2)"
   ]
  },
  {
   "cell_type": "code",
   "execution_count": 0,
   "metadata": {
    "colab": {},
    "colab_type": "code",
    "id": "NlpIy6uLUz1O",
    "outputId": "57580d30-632f-46c3-f613-0230aacc0bed"
   },
   "outputs": [
    {
     "name": "stdout",
     "output_type": "stream",
     "text": [
      "Memory usage after optimization is: 24.43 MB\n",
      "Decreased by 0.0%\n"
     ]
    },
    {
     "data": {
      "text/html": [
       "<div>\n",
       "<style scoped>\n",
       "    .dataframe tbody tr th:only-of-type {\n",
       "        vertical-align: middle;\n",
       "    }\n",
       "\n",
       "    .dataframe tbody tr th {\n",
       "        vertical-align: top;\n",
       "    }\n",
       "\n",
       "    .dataframe thead th {\n",
       "        text-align: right;\n",
       "    }\n",
       "</style>\n",
       "<table border=\"1\" class=\"dataframe\">\n",
       "  <thead>\n",
       "    <tr style=\"text-align: right;\">\n",
       "      <th></th>\n",
       "      <th>item_id</th>\n",
       "      <th>dept_id</th>\n",
       "      <th>cat_id</th>\n",
       "      <th>store_id</th>\n",
       "      <th>state_id</th>\n",
       "      <th>d_n</th>\n",
       "      <th>sales</th>\n",
       "      <th>wm_yr_wk</th>\n",
       "      <th>wday</th>\n",
       "      <th>month</th>\n",
       "      <th>year</th>\n",
       "      <th>event_name_1</th>\n",
       "      <th>event_type_1</th>\n",
       "      <th>event_name_2</th>\n",
       "      <th>event_type_2</th>\n",
       "      <th>snap</th>\n",
       "      <th>sell_price</th>\n",
       "    </tr>\n",
       "  </thead>\n",
       "  <tbody>\n",
       "    <tr>\n",
       "      <th>0</th>\n",
       "      <td>1437</td>\n",
       "      <td>3</td>\n",
       "      <td>1</td>\n",
       "      <td>0</td>\n",
       "      <td>0</td>\n",
       "      <td>1914</td>\n",
       "      <td>0</td>\n",
       "      <td>11613</td>\n",
       "      <td>3</td>\n",
       "      <td>4</td>\n",
       "      <td>2016</td>\n",
       "      <td>30</td>\n",
       "      <td>4</td>\n",
       "      <td>4</td>\n",
       "      <td>2</td>\n",
       "      <td>0</td>\n",
       "      <td>8.382812</td>\n",
       "    </tr>\n",
       "    <tr>\n",
       "      <th>1</th>\n",
       "      <td>1437</td>\n",
       "      <td>3</td>\n",
       "      <td>1</td>\n",
       "      <td>0</td>\n",
       "      <td>0</td>\n",
       "      <td>1915</td>\n",
       "      <td>0</td>\n",
       "      <td>11613</td>\n",
       "      <td>4</td>\n",
       "      <td>4</td>\n",
       "      <td>2016</td>\n",
       "      <td>30</td>\n",
       "      <td>4</td>\n",
       "      <td>4</td>\n",
       "      <td>2</td>\n",
       "      <td>0</td>\n",
       "      <td>8.382812</td>\n",
       "    </tr>\n",
       "  </tbody>\n",
       "</table>\n",
       "</div>"
      ],
      "text/plain": [
       "   item_id  dept_id  cat_id  store_id  state_id   d_n  sales  wm_yr_wk  wday  \\\n",
       "0     1437        3       1         0         0  1914      0     11613     3   \n",
       "1     1437        3       1         0         0  1915      0     11613     4   \n",
       "\n",
       "   month  year  event_name_1  event_type_1  event_name_2  event_type_2  snap  \\\n",
       "0      4  2016            30             4             4             2     0   \n",
       "1      4  2016            30             4             4             2     0   \n",
       "\n",
       "   sell_price  \n",
       "0    8.382812  \n",
       "1    8.382812  "
      ]
     },
     "execution_count": 21,
     "metadata": {
      "tags": []
     },
     "output_type": "execute_result"
    }
   ],
   "source": [
    "# sample_submission merge sell_prices\n",
    "\n",
    "sell_prices_short = pd.merge(sell_prices, sample_id, how=\"left\", left_on=[\"id\"], right_on = [\"id\"])\n",
    "sell_prices_short = sell_prices_short.select_dtypes(exclude='object')\n",
    "sell_prices_short.columns = [\"wm_yr_wk\", \"sell_price\", \"item_id\", \"dept_id\", \"cat_id\", \"store_id\", \"state_id\"]\n",
    "del sell_prices\n",
    "\n",
    "sample = pd.merge(sample_submission, sell_prices_short, how=\"left\", left_on=[\"dept_id\", \"item_id\", \"wm_yr_wk\", \"cat_id\", \"store_id\", \"state_id\"], right_on=[\"dept_id\", \"item_id\", \"wm_yr_wk\", \"cat_id\", \"store_id\", \"state_id\"])\n",
    "sample_submission = reduce_mem_usage(sample)\n",
    "del sample\n",
    "\n",
    "sample_submission.head(2)"
   ]
  },
  {
   "cell_type": "code",
   "execution_count": 0,
   "metadata": {
    "colab": {},
    "colab_type": "code",
    "id": "WCJOAHUdUz1Q",
    "outputId": "f6fb2e65-a231-48fc-f1df-571faf7e759a",
    "scrolled": true
   },
   "outputs": [
    {
     "name": "stdout",
     "output_type": "stream",
     "text": [
      "Memory usage after optimization is: 1724.38 MB\n",
      "Decreased by 0.0%\n"
     ]
    },
    {
     "data": {
      "text/html": [
       "<div>\n",
       "<style scoped>\n",
       "    .dataframe tbody tr th:only-of-type {\n",
       "        vertical-align: middle;\n",
       "    }\n",
       "\n",
       "    .dataframe tbody tr th {\n",
       "        vertical-align: top;\n",
       "    }\n",
       "\n",
       "    .dataframe thead th {\n",
       "        text-align: right;\n",
       "    }\n",
       "</style>\n",
       "<table border=\"1\" class=\"dataframe\">\n",
       "  <thead>\n",
       "    <tr style=\"text-align: right;\">\n",
       "      <th></th>\n",
       "      <th>item_id</th>\n",
       "      <th>dept_id</th>\n",
       "      <th>cat_id</th>\n",
       "      <th>store_id</th>\n",
       "      <th>state_id</th>\n",
       "      <th>d_n</th>\n",
       "      <th>sales</th>\n",
       "      <th>wm_yr_wk</th>\n",
       "      <th>wday</th>\n",
       "      <th>month</th>\n",
       "      <th>year</th>\n",
       "      <th>event_name_1</th>\n",
       "      <th>event_type_1</th>\n",
       "      <th>event_name_2</th>\n",
       "      <th>event_type_2</th>\n",
       "      <th>snap</th>\n",
       "      <th>sell_price</th>\n",
       "    </tr>\n",
       "  </thead>\n",
       "  <tbody>\n",
       "    <tr>\n",
       "      <th>0</th>\n",
       "      <td>1437</td>\n",
       "      <td>3</td>\n",
       "      <td>1</td>\n",
       "      <td>0</td>\n",
       "      <td>0</td>\n",
       "      <td>1</td>\n",
       "      <td>0</td>\n",
       "      <td>11101</td>\n",
       "      <td>1</td>\n",
       "      <td>1</td>\n",
       "      <td>2011</td>\n",
       "      <td>30</td>\n",
       "      <td>4</td>\n",
       "      <td>4</td>\n",
       "      <td>2</td>\n",
       "      <td>0</td>\n",
       "      <td>0.0</td>\n",
       "    </tr>\n",
       "    <tr>\n",
       "      <th>1</th>\n",
       "      <td>1437</td>\n",
       "      <td>3</td>\n",
       "      <td>1</td>\n",
       "      <td>0</td>\n",
       "      <td>0</td>\n",
       "      <td>2</td>\n",
       "      <td>0</td>\n",
       "      <td>11101</td>\n",
       "      <td>2</td>\n",
       "      <td>1</td>\n",
       "      <td>2011</td>\n",
       "      <td>30</td>\n",
       "      <td>4</td>\n",
       "      <td>4</td>\n",
       "      <td>2</td>\n",
       "      <td>0</td>\n",
       "      <td>0.0</td>\n",
       "    </tr>\n",
       "  </tbody>\n",
       "</table>\n",
       "</div>"
      ],
      "text/plain": [
       "   item_id  dept_id  cat_id  store_id  state_id  d_n  sales  wm_yr_wk  wday  \\\n",
       "0     1437        3       1         0         0    1      0     11101     1   \n",
       "1     1437        3       1         0         0    2      0     11101     2   \n",
       "\n",
       "   month  year  event_name_1  event_type_1  event_name_2  event_type_2  snap  \\\n",
       "0      1  2011            30             4             4             2     0   \n",
       "1      1  2011            30             4             4             2     0   \n",
       "\n",
       "   sell_price  \n",
       "0         0.0  \n",
       "1         0.0  "
      ]
     },
     "execution_count": 22,
     "metadata": {
      "tags": []
     },
     "output_type": "execute_result"
    }
   ],
   "source": [
    "# sales merge sell_prices\n",
    "\n",
    "sales_new = pd.merge(sales, sell_prices_short, how=\"left\", left_on=[\"dept_id\", \"item_id\", \"wm_yr_wk\", \"cat_id\", \"store_id\", \"state_id\"], right_on=[\"dept_id\", \"item_id\", \"wm_yr_wk\", \"cat_id\", \"store_id\", \"state_id\"])\n",
    "del sell_prices_short\n",
    "\n",
    "sales_new[\"sell_price\"] = sales_new[\"sell_price\"].fillna(0) \n",
    "sales = reduce_mem_usage(sales_new)\n",
    "del sales_new\n",
    "\n",
    "sales.head(2)"
   ]
  },
  {
   "cell_type": "code",
   "execution_count": 0,
   "metadata": {
    "colab": {},
    "colab_type": "code",
    "id": "fGbpr3_TUz1S",
    "outputId": "6e879834-4545-432b-994d-e4d5f4e40a69"
   },
   "outputs": [
    {
     "data": {
      "text/plain": [
       "(58327370, 17)"
      ]
     },
     "execution_count": 23,
     "metadata": {
      "tags": []
     },
     "output_type": "execute_result"
    }
   ],
   "source": [
    "sales.shape"
   ]
  },
  {
   "cell_type": "markdown",
   "metadata": {
    "colab_type": "text",
    "id": "wbu6_DvfzrB0"
   },
   "source": [
    "For our final dataframe `sales`, there are 58327370 rows and 17 columns."
   ]
  },
  {
   "cell_type": "markdown",
   "metadata": {
    "colab_type": "text",
    "id": "4d1csRXgUz1V"
   },
   "source": [
    "#### Concat data\n",
    "\n",
    "At first, concat `sales` and `sample_submission` to form a dataset `alldata` that contains all data."
   ]
  },
  {
   "cell_type": "code",
   "execution_count": 0,
   "metadata": {
    "colab": {},
    "colab_type": "code",
    "id": "kAL07xxlUz1W",
    "outputId": "4387f290-8ca4-4725-ec18-6e042ae20a7d"
   },
   "outputs": [
    {
     "name": "stdout",
     "output_type": "stream",
     "text": [
      "Memory usage after optimization is: 1749.62 MB\n",
      "Decreased by 0.0%\n"
     ]
    }
   ],
   "source": [
    "alldata = pd.concat([sales, sample_submission], sort=False)\n",
    "alldata = reduce_mem_usage(alldata)\n",
    "del sales, sample_submission"
   ]
  },
  {
   "cell_type": "markdown",
   "metadata": {
    "colab_type": "text",
    "id": "d3T8xQ0B0fUu"
   },
   "source": [
    "The following step is to merge `alldata` with `sample_id` on `state_id`, `store_id`, `cat_id`, `dept_id` and `item_id`\n",
    "\n",
    "All values are sorted by `id` and `d_n` and all indexs are reset."
   ]
  },
  {
   "cell_type": "code",
   "execution_count": 0,
   "metadata": {
    "colab": {},
    "colab_type": "code",
    "id": "vNDNkTNjUz1Y",
    "outputId": "8acd7454-5306-481f-c66b-7406504d4b90"
   },
   "outputs": [
    {
     "name": "stdout",
     "output_type": "stream",
     "text": [
      "Memory usage after optimization is: 2201.14 MB\n",
      "Decreased by 0.0%\n"
     ]
    },
    {
     "data": {
      "text/html": [
       "<div>\n",
       "<style scoped>\n",
       "    .dataframe tbody tr th:only-of-type {\n",
       "        vertical-align: middle;\n",
       "    }\n",
       "\n",
       "    .dataframe tbody tr th {\n",
       "        vertical-align: top;\n",
       "    }\n",
       "\n",
       "    .dataframe thead th {\n",
       "        text-align: right;\n",
       "    }\n",
       "</style>\n",
       "<table border=\"1\" class=\"dataframe\">\n",
       "  <thead>\n",
       "    <tr style=\"text-align: right;\">\n",
       "      <th></th>\n",
       "      <th>item_id</th>\n",
       "      <th>dept_id</th>\n",
       "      <th>cat_id</th>\n",
       "      <th>store_id</th>\n",
       "      <th>state_id</th>\n",
       "      <th>d_n</th>\n",
       "      <th>sales</th>\n",
       "      <th>wm_yr_wk</th>\n",
       "      <th>wday</th>\n",
       "      <th>month</th>\n",
       "      <th>year</th>\n",
       "      <th>event_name_1</th>\n",
       "      <th>event_type_1</th>\n",
       "      <th>event_name_2</th>\n",
       "      <th>event_type_2</th>\n",
       "      <th>snap</th>\n",
       "      <th>sell_price</th>\n",
       "      <th>id</th>\n",
       "    </tr>\n",
       "  </thead>\n",
       "  <tbody>\n",
       "    <tr>\n",
       "      <th>0</th>\n",
       "      <td>0</td>\n",
       "      <td>0</td>\n",
       "      <td>0</td>\n",
       "      <td>0</td>\n",
       "      <td>0</td>\n",
       "      <td>1</td>\n",
       "      <td>3</td>\n",
       "      <td>11101</td>\n",
       "      <td>1</td>\n",
       "      <td>1</td>\n",
       "      <td>2011</td>\n",
       "      <td>30</td>\n",
       "      <td>4</td>\n",
       "      <td>4</td>\n",
       "      <td>2</td>\n",
       "      <td>0</td>\n",
       "      <td>2.0</td>\n",
       "      <td>FOODS_1_001_CA_1_validation</td>\n",
       "    </tr>\n",
       "    <tr>\n",
       "      <th>1</th>\n",
       "      <td>0</td>\n",
       "      <td>0</td>\n",
       "      <td>0</td>\n",
       "      <td>0</td>\n",
       "      <td>0</td>\n",
       "      <td>2</td>\n",
       "      <td>0</td>\n",
       "      <td>11101</td>\n",
       "      <td>2</td>\n",
       "      <td>1</td>\n",
       "      <td>2011</td>\n",
       "      <td>30</td>\n",
       "      <td>4</td>\n",
       "      <td>4</td>\n",
       "      <td>2</td>\n",
       "      <td>0</td>\n",
       "      <td>2.0</td>\n",
       "      <td>FOODS_1_001_CA_1_validation</td>\n",
       "    </tr>\n",
       "  </tbody>\n",
       "</table>\n",
       "</div>"
      ],
      "text/plain": [
       "   item_id  dept_id  cat_id  store_id  state_id  d_n  sales  wm_yr_wk  wday  \\\n",
       "0        0        0       0         0         0    1      3     11101     1   \n",
       "1        0        0       0         0         0    2      0     11101     2   \n",
       "\n",
       "   month  year  event_name_1  event_type_1  event_name_2  event_type_2  snap  \\\n",
       "0      1  2011            30             4             4             2     0   \n",
       "1      1  2011            30             4             4             2     0   \n",
       "\n",
       "   sell_price                           id  \n",
       "0         2.0  FOODS_1_001_CA_1_validation  \n",
       "1         2.0  FOODS_1_001_CA_1_validation  "
      ]
     },
     "execution_count": 25,
     "metadata": {
      "tags": []
     },
     "output_type": "execute_result"
    }
   ],
   "source": [
    "alldata_full = pd.merge(alldata, sample_id, how=\"left\",\n",
    "                     left_on=[\"state_id\", \"store_id\", \"cat_id\", \"dept_id\", \"item_id\"],\n",
    "                     right_on=[\"state_id\", \"store_id\", \"cat_id\", \"dept_id\", \"item_id\"])\n",
    "alldata_full = reduce_mem_usage(alldata_full)\n",
    "del alldata\n",
    "\n",
    "alldata_full = alldata_full.sort_values(by=[\"id\", \"d_n\"])\n",
    "alldata_full = alldata_full.reset_index(drop=True)\n",
    "alldata_id = alldata_full[[\"id\"]]\n",
    "alldata_full.head(2)"
   ]
  },
  {
   "cell_type": "markdown",
   "metadata": {
    "colab_type": "text",
    "id": "JB67S1D-Uz1Z"
   },
   "source": [
    "#### Separate data \n",
    "\n",
    "Next, separate the total data into x and y.\n",
    "\n",
    "  **x:** columns `item_id`,\t`dept_id`,\t`cat_id`,\t`store_id`,`state_id`,\t`d_n`,\t`wm_yr_wk`,\t`wday`,\t`month`,\t`year`,\t`event_name_1`,\t`event_type_1`,\t`event_name_2`,\t`event_type_2`,\t`snap` and\t`sell_price`.\n",
    "\n",
    "  **y:** columns `sales`"
   ]
  },
  {
   "cell_type": "code",
   "execution_count": 0,
   "metadata": {
    "colab": {},
    "colab_type": "code",
    "id": "tL1gSTyKUz1a"
   },
   "outputs": [],
   "source": [
    "alldata_x = alldata_full.drop(columns=[\"sales\",\"id\"])\n",
    "alldata_y = alldata_full[[\"sales\"]]\n",
    "del alldata_full"
   ]
  },
  {
   "cell_type": "markdown",
   "metadata": {
    "colab_type": "text",
    "id": "rIjfRc4NUz1b"
   },
   "source": [
    "There are 31 days that are used as the testing data while the remaining is the training data."
   ]
  },
  {
   "cell_type": "code",
   "execution_count": 0,
   "metadata": {
    "colab": {},
    "colab_type": "code",
    "id": "vAvir0ikUz1c"
   },
   "outputs": [],
   "source": [
    "pred_ind = alldata_x.index[(alldata_x[\"d_n\"]>1913)].tolist()\n",
    "train_ind = alldata_x.index[(alldata_x[\"d_n\"]<=1913-31)].tolist()\n",
    "test_ind = alldata_x.index[(alldata_x[\"d_n\"]<=1913)&(alldata_x[\"d_n\"]>1913-31)].tolist()"
   ]
  },
  {
   "cell_type": "markdown",
   "metadata": {
    "colab_type": "text",
    "id": "FXDiA0x_Uz1d"
   },
   "source": [
    "#### Normalize data\n",
    "\n",
    "Normalization is a technique often applied as part of data preparation for machine learning. The goal of normalization is to change the values of numeric columns in the dataset to use a common scale, without distorting differences in the ranges of values. \n",
    "\n",
    "By observing our data, features have different ranges or scales, which indicates that normalization is required in this case.\n",
    "\n",
    "Normalizes our data using the min/max scaler with minimum and maximum values of 0 and 1 respectively."
   ]
  },
  {
   "cell_type": "code",
   "execution_count": 0,
   "metadata": {
    "colab": {},
    "colab_type": "code",
    "id": "xx3l_Y8yUz1e",
    "outputId": "2bec030b-7949-459e-ad15-ed064c4fb736"
   },
   "outputs": [
    {
     "name": "stdout",
     "output_type": "stream",
     "text": [
      "Memory usage after optimization is: 1806.06 MB\n",
      "Decreased by 75.0%\n"
     ]
    },
    {
     "data": {
      "text/html": [
       "<div>\n",
       "<style scoped>\n",
       "    .dataframe tbody tr th:only-of-type {\n",
       "        vertical-align: middle;\n",
       "    }\n",
       "\n",
       "    .dataframe tbody tr th {\n",
       "        vertical-align: top;\n",
       "    }\n",
       "\n",
       "    .dataframe thead th {\n",
       "        text-align: right;\n",
       "    }\n",
       "</style>\n",
       "<table border=\"1\" class=\"dataframe\">\n",
       "  <thead>\n",
       "    <tr style=\"text-align: right;\">\n",
       "      <th></th>\n",
       "      <th>item_id</th>\n",
       "      <th>dept_id</th>\n",
       "      <th>cat_id</th>\n",
       "      <th>store_id</th>\n",
       "      <th>state_id</th>\n",
       "      <th>d_n</th>\n",
       "      <th>wm_yr_wk</th>\n",
       "      <th>wday</th>\n",
       "      <th>month</th>\n",
       "      <th>year</th>\n",
       "      <th>event_name_1</th>\n",
       "      <th>event_type_1</th>\n",
       "      <th>event_name_2</th>\n",
       "      <th>event_type_2</th>\n",
       "      <th>snap</th>\n",
       "      <th>sell_price</th>\n",
       "    </tr>\n",
       "  </thead>\n",
       "  <tbody>\n",
       "    <tr>\n",
       "      <th>0</th>\n",
       "      <td>0.0</td>\n",
       "      <td>0.0</td>\n",
       "      <td>0.0</td>\n",
       "      <td>0.0</td>\n",
       "      <td>0.0</td>\n",
       "      <td>0.000089</td>\n",
       "      <td>0.983887</td>\n",
       "      <td>0.000089</td>\n",
       "      <td>0.000089</td>\n",
       "      <td>0.178223</td>\n",
       "      <td>0.002659</td>\n",
       "      <td>0.000355</td>\n",
       "      <td>0.000355</td>\n",
       "      <td>0.000177</td>\n",
       "      <td>0.0</td>\n",
       "      <td>0.000177</td>\n",
       "    </tr>\n",
       "    <tr>\n",
       "      <th>1</th>\n",
       "      <td>0.0</td>\n",
       "      <td>0.0</td>\n",
       "      <td>0.0</td>\n",
       "      <td>0.0</td>\n",
       "      <td>0.0</td>\n",
       "      <td>0.000177</td>\n",
       "      <td>0.983887</td>\n",
       "      <td>0.000177</td>\n",
       "      <td>0.000089</td>\n",
       "      <td>0.178223</td>\n",
       "      <td>0.002659</td>\n",
       "      <td>0.000355</td>\n",
       "      <td>0.000355</td>\n",
       "      <td>0.000177</td>\n",
       "      <td>0.0</td>\n",
       "      <td>0.000177</td>\n",
       "    </tr>\n",
       "  </tbody>\n",
       "</table>\n",
       "</div>"
      ],
      "text/plain": [
       "   item_id  dept_id  cat_id  store_id  state_id       d_n  wm_yr_wk      wday  \\\n",
       "0      0.0      0.0     0.0       0.0       0.0  0.000089  0.983887  0.000089   \n",
       "1      0.0      0.0     0.0       0.0       0.0  0.000177  0.983887  0.000177   \n",
       "\n",
       "      month      year  event_name_1  event_type_1  event_name_2  event_type_2  \\\n",
       "0  0.000089  0.178223      0.002659      0.000355      0.000355      0.000177   \n",
       "1  0.000089  0.178223      0.002659      0.000355      0.000355      0.000177   \n",
       "\n",
       "   snap  sell_price  \n",
       "0   0.0    0.000177  \n",
       "1   0.0    0.000177  "
      ]
     },
     "execution_count": 28,
     "metadata": {
      "tags": []
     },
     "output_type": "execute_result"
    }
   ],
   "source": [
    "n_alldata_x = preprocessing.normalize(alldata_x)\n",
    "df_n_alldata_x = pd.DataFrame(n_alldata_x)\n",
    "del n_alldata_x\n",
    "\n",
    "df_n_alldata_x = reduce_mem_usage(df_n_alldata_x)\n",
    "df_n_alldata_x.columns = alldata_x.columns\n",
    "del alldata_x\n",
    "\n",
    "df_n_alldata_x.head(2)"
   ]
  },
  {
   "cell_type": "markdown",
   "metadata": {
    "colab_type": "text",
    "id": "RUEQMzevUz1h"
   },
   "source": [
    "#### Divide data\n",
    "\n",
    "For the normalized data, it is randomly divided into train set, test set and pred set by the seed `586`."
   ]
  },
  {
   "cell_type": "code",
   "execution_count": 0,
   "metadata": {
    "colab": {},
    "colab_type": "code",
    "id": "P0oP6jJ0Uz1h"
   },
   "outputs": [],
   "source": [
    "X_test = df_n_alldata_x.iloc[test_ind]\n",
    "X_pred = df_n_alldata_x.iloc[pred_ind]\n",
    "Y_test = alldata_y.iloc[test_ind]\n",
    "\n",
    "n_sample_id = alldata_id.iloc[pred_ind]"
   ]
  },
  {
   "cell_type": "code",
   "execution_count": 0,
   "metadata": {
    "colab": {},
    "colab_type": "code",
    "id": "ZWQemC-4Uz1j"
   },
   "outputs": [],
   "source": [
    "np.random.seed(586)\n",
    "\n",
    "ind1 = np.random.choice(train_ind, 11476436, replace=False)\n",
    "ind2 = np.random.choice(train_ind, 11476436, replace=False)\n",
    "ind3 = np.random.choice(train_ind, 11476436, replace=False)\n",
    "ind4 = np.random.choice(train_ind, 11476436, replace=False)\n",
    "ind5 = np.random.choice(train_ind, 11476436, replace=False)"
   ]
  },
  {
   "cell_type": "code",
   "execution_count": 0,
   "metadata": {
    "colab": {},
    "colab_type": "code",
    "id": "GeQ-rB3cUz1k"
   },
   "outputs": [],
   "source": [
    "X_train1 = df_n_alldata_x.iloc[ind1]\n",
    "X_train2 = df_n_alldata_x.iloc[ind2]\n",
    "X_train3 = df_n_alldata_x.iloc[ind3]\n",
    "X_train4 = df_n_alldata_x.iloc[ind4]\n",
    "X_train5 = df_n_alldata_x.iloc[ind5]\n",
    "\n",
    "Y_train1 = alldata_y.iloc[ind1]\n",
    "Y_train2 = alldata_y.iloc[ind2]\n",
    "Y_train3 = alldata_y.iloc[ind3]\n",
    "Y_train4 = alldata_y.iloc[ind4]\n",
    "Y_train5 = alldata_y.iloc[ind5]\n",
    "\n",
    "del ind1, ind2, ind3, ind4, ind5, alldata_y"
   ]
  },
  {
   "cell_type": "markdown",
   "metadata": {
    "colab_type": "text",
    "id": "1cCO4F2vUz1m"
   },
   "source": [
    "#### Process data\n",
    "\n",
    "We apply a function named `xprocess` to transfer dataframe into dictionary."
   ]
  },
  {
   "cell_type": "code",
   "execution_count": 0,
   "metadata": {
    "colab": {},
    "colab_type": "code",
    "id": "LsWdjoo-Uz1m"
   },
   "outputs": [],
   "source": [
    "def xprocess(dataf):\n",
    "    temps = {\"all\": dataf.to_numpy()}\n",
    "    for i in range(len(dataf.columns)):\n",
    "        temps.update({dataf.columns[i] : dataf[[dataf.columns[i]]].to_numpy()})\n",
    "    return temps"
   ]
  },
  {
   "cell_type": "code",
   "execution_count": 0,
   "metadata": {
    "colab": {},
    "colab_type": "code",
    "id": "XR1gaQODUz1o"
   },
   "outputs": [],
   "source": [
    "x_test = xprocess(X_test)\n",
    "x_pred = xprocess(X_pred)\n",
    "del X_test, X_pred"
   ]
  },
  {
   "cell_type": "code",
   "execution_count": 0,
   "metadata": {
    "colab": {},
    "colab_type": "code",
    "id": "MgYbqY3jUz1s"
   },
   "outputs": [],
   "source": [
    "x_train1 = xprocess(X_train1)\n",
    "x_train2 = xprocess(X_train2)\n",
    "x_train3 = xprocess(X_train3)\n",
    "x_train4 = xprocess(X_train4)\n",
    "x_train5 = xprocess(X_train5)\n",
    "del xprocess"
   ]
  },
  {
   "cell_type": "markdown",
   "metadata": {
    "colab_type": "text",
    "id": "PTncmiDFUz1v"
   },
   "source": [
    "### RNN Model\n",
    "\n",
    "As one class of artificial neural networks, the recurrent neural network (RNN) has connections between nodes form a directed graph along a temporal sequence, which is allowed to exhibit temporal dynamic behavior and to use their internal state (memory) to process variable length sequences of inputs."
   ]
  },
  {
   "cell_type": "markdown",
   "metadata": {
    "colab_type": "text",
    "id": "g0hmW8yY3yaU"
   },
   "source": [
    "#### Build Model\n",
    "\n",
    "While building the RNN model, firstly, we dense input and embedding input. Then, we combine dense and embedding parts. Next, all embedding layers are flattened and all flattened layers are concatenated with inputs. At last, dense layers are added to form the final RNN model."
   ]
  },
  {
   "cell_type": "code",
   "execution_count": 0,
   "metadata": {
    "colab": {},
    "colab_type": "code",
    "id": "jo7U5KiBUz1v"
   },
   "outputs": [],
   "source": [
    "def build_model():\n",
    "    tf.random.set_seed(586)\n",
    "    \n",
    "    all_in = tf.keras.layers.Input(shape=(16,), name=\"all\")\n",
    "    item_id_in = tf.keras.layers.Input(shape=(1,), name=\"item_id\")\n",
    "    dept_id_in = tf.keras.layers.Input(shape=(1,), name=\"dept_id\")\n",
    "    cat_id_in = tf.keras.layers.Input(shape=(1,), name=\"cat_id\")\n",
    "    store_id_in = tf.keras.layers.Input(shape=(1,), name=\"store_id\")\n",
    "    d_n_in = tf.keras.layers.Input(shape=(1,), name=\"d_n\")\n",
    "    wm_yr_wk_in = tf.keras.layers.Input(shape=(1,), name=\"wm_yr_wk\")\n",
    "    wday_in = tf.keras.layers.Input(shape=(1,), name=\"wday\")\n",
    "    month_in = tf.keras.layers.Input(shape=(1,), name=\"month\")\n",
    "    year_in = tf.keras.layers.Input(shape=(1,), name=\"year\")\n",
    "    event_name_1_in = tf.keras.layers.Input(shape=(1,), name=\"event_name_1\")\n",
    "    event_type_1_in = tf.keras.layers.Input(shape=(1,), name=\"event_type_1\")\n",
    "    event_name_2_in = tf.keras.layers.Input(shape=(1,), name=\"event_name_2\")\n",
    "    event_type_2_in = tf.keras.layers.Input(shape=(1,), name=\"event_type_2\")\n",
    "    snap_in = tf.keras.layers.Input(shape=(1,), name=\"snap\")\n",
    "    sell_price_in = tf.keras.layers.Input(shape=(1,), name=\"sell_price\")\n",
    "    \n",
    "    item_id_em = tf.keras.layers.Embedding(1,1)(item_id_in)\n",
    "    dept_id_em = tf.keras.layers.Embedding(1,1)(dept_id_in)\n",
    "    cat_id_em = tf.keras.layers.Embedding(1,1)(cat_id_in)\n",
    "    store_id_em = tf.keras.layers.Embedding(1,1)(store_id_in)\n",
    "    d_n_em = tf.keras.layers.Embedding(1,1)(d_n_in)\n",
    "    wm_yr_wk_em = tf.keras.layers.Embedding(1,1)(wm_yr_wk_in)\n",
    "    wday_em = tf.keras.layers.Embedding(1,1)(wday_in)\n",
    "    month_em = tf.keras.layers.Embedding(1,1)(month_in)\n",
    "    year_em = tf.keras.layers.Embedding(1,1)(year_in)\n",
    "    event_name_1_em = tf.keras.layers.Embedding(1,1)(event_name_1_in)\n",
    "    event_type_1_em = tf.keras.layers.Embedding(1,1)(event_type_1_in)\n",
    "    event_name_2_em = tf.keras.layers.Embedding(1,1)(event_name_2_in)\n",
    "    event_type_2_em = tf.keras.layers.Embedding(1,1)(event_type_2_in)\n",
    "    snap_em = tf.keras.layers.Embedding(1,1)(snap_in)\n",
    "    sell_price_em = tf.keras.layers.Embedding(1,1)(sell_price_in)\n",
    "    \n",
    "    item_id_fl = tf.keras.layers.Flatten()(item_id_em)\n",
    "    dept_id_fl = tf.keras.layers.Flatten()(dept_id_em)\n",
    "    cat_id_fl = tf.keras.layers.Flatten()(cat_id_em)\n",
    "    store_id_fl = tf.keras.layers.Flatten()(store_id_em)\n",
    "    d_n_fl = tf.keras.layers.Flatten()(d_n_em)\n",
    "    wm_yr_wk_fl = tf.keras.layers.Flatten()(wm_yr_wk_em)\n",
    "    wday_fl = tf.keras.layers.Flatten()(wday_em)\n",
    "    month_fl = tf.keras.layers.Flatten()(month_em)\n",
    "    year_fl = tf.keras.layers.Flatten()(year_em)\n",
    "    event_name_1_fl = tf.keras.layers.Flatten()(event_name_1_em)\n",
    "    event_type_1_fl = tf.keras.layers.Flatten()(event_type_1_em)\n",
    "    event_name_2_fl = tf.keras.layers.Flatten()(event_name_2_em)\n",
    "    event_type_2_fl = tf.keras.layers.Flatten()(event_type_2_em)\n",
    "    snap_fl = tf.keras.layers.Flatten()(snap_em)\n",
    "    sell_price_fl = tf.keras.layers.Flatten()(sell_price_em)\n",
    "    \n",
    "    model = tf.keras.layers.concatenate([\n",
    "        all_in,item_id_in,dept_id_in,cat_id_in,store_id_in,d_n_in,wm_yr_wk_in,wday_in,\n",
    "        month_in,year_in,event_name_1_in,event_type_1_in,event_name_2_in,event_type_2_in,\n",
    "        snap_in,sell_price_in,\n",
    "        item_id_fl,dept_id_fl,cat_id_fl,store_id_fl,d_n_fl,wm_yr_wk_fl,wday_fl,\n",
    "        month_fl,year_fl,event_name_1_fl,event_type_1_fl,event_name_2_fl,event_type_2_fl,\n",
    "        snap_fl,sell_price_fl,\n",
    "        ])\n",
    "    \n",
    "    model = tf.keras.layers.Dense(256, activation=\"relu\")(model)\n",
    "    model = tf.keras.layers.Dense(128, activation=\"relu\")(model)\n",
    "    model = tf.keras.layers.Dense(64, activation=\"relu\")(model)\n",
    "    model = tf.keras.layers.Dense(32, activation=\"relu\")(model)\n",
    "    \n",
    "    denselayer = tf.keras.layers.Dense(1, activation=\"relu\")(model)\n",
    "    \n",
    "    rnn_model = tf.keras.models.Model({\n",
    "        \"all\":all_in,\n",
    "        \"item_id\":item_id_in,\n",
    "        \"dept_id\":dept_id_in,\n",
    "        \"cat_id\":cat_id_in,\n",
    "        \"store_id\":store_id_in,\n",
    "        \"d_n\":d_n_in,\n",
    "        \"wm_yr_wk\":wm_yr_wk_in,\n",
    "        \"wday\":wday_in,\n",
    "        \"month\":month_in,\n",
    "        \"year\":year_in,\n",
    "        \"event_name_1\":event_name_1_in,\n",
    "        \"event_type_1\":event_type_1_in,\n",
    "        \"event_name_2\":event_name_2_in,\n",
    "        \"event_type_2\":event_type_2_in,\n",
    "        \"snap\":snap_in,\n",
    "        \"sell_price\":sell_price_in,\n",
    "        }, denselayer)\n",
    "        \n",
    "    return rnn_model"
   ]
  },
  {
   "cell_type": "code",
   "execution_count": 0,
   "metadata": {
    "colab": {},
    "colab_type": "code",
    "id": "XLaLNOAxUz1x",
    "outputId": "8e1d9c91-9b21-4437-9dec-3fa59a4f9e99",
    "scrolled": false
   },
   "outputs": [
    {
     "name": "stdout",
     "output_type": "stream",
     "text": [
      "Model: \"model\"\n",
      "__________________________________________________________________________________________________\n",
      "Layer (type)                    Output Shape         Param #     Connected to                     \n",
      "==================================================================================================\n",
      "item_id (InputLayer)            [(None, 1)]          0                                            \n",
      "__________________________________________________________________________________________________\n",
      "dept_id (InputLayer)            [(None, 1)]          0                                            \n",
      "__________________________________________________________________________________________________\n",
      "cat_id (InputLayer)             [(None, 1)]          0                                            \n",
      "__________________________________________________________________________________________________\n",
      "store_id (InputLayer)           [(None, 1)]          0                                            \n",
      "__________________________________________________________________________________________________\n",
      "d_n (InputLayer)                [(None, 1)]          0                                            \n",
      "__________________________________________________________________________________________________\n",
      "wm_yr_wk (InputLayer)           [(None, 1)]          0                                            \n",
      "__________________________________________________________________________________________________\n",
      "wday (InputLayer)               [(None, 1)]          0                                            \n",
      "__________________________________________________________________________________________________\n",
      "month (InputLayer)              [(None, 1)]          0                                            \n",
      "__________________________________________________________________________________________________\n",
      "year (InputLayer)               [(None, 1)]          0                                            \n",
      "__________________________________________________________________________________________________\n",
      "event_name_1 (InputLayer)       [(None, 1)]          0                                            \n",
      "__________________________________________________________________________________________________\n",
      "event_type_1 (InputLayer)       [(None, 1)]          0                                            \n",
      "__________________________________________________________________________________________________\n",
      "event_name_2 (InputLayer)       [(None, 1)]          0                                            \n",
      "__________________________________________________________________________________________________\n",
      "event_type_2 (InputLayer)       [(None, 1)]          0                                            \n",
      "__________________________________________________________________________________________________\n",
      "snap (InputLayer)               [(None, 1)]          0                                            \n",
      "__________________________________________________________________________________________________\n",
      "sell_price (InputLayer)         [(None, 1)]          0                                            \n",
      "__________________________________________________________________________________________________\n",
      "embedding (Embedding)           (None, 1, 1)         1           item_id[0][0]                    \n",
      "__________________________________________________________________________________________________\n",
      "embedding_1 (Embedding)         (None, 1, 1)         1           dept_id[0][0]                    \n",
      "__________________________________________________________________________________________________\n",
      "embedding_2 (Embedding)         (None, 1, 1)         1           cat_id[0][0]                     \n",
      "__________________________________________________________________________________________________\n",
      "embedding_3 (Embedding)         (None, 1, 1)         1           store_id[0][0]                   \n",
      "__________________________________________________________________________________________________\n",
      "embedding_4 (Embedding)         (None, 1, 1)         1           d_n[0][0]                        \n",
      "__________________________________________________________________________________________________\n",
      "embedding_5 (Embedding)         (None, 1, 1)         1           wm_yr_wk[0][0]                   \n",
      "__________________________________________________________________________________________________\n",
      "embedding_6 (Embedding)         (None, 1, 1)         1           wday[0][0]                       \n",
      "__________________________________________________________________________________________________\n",
      "embedding_7 (Embedding)         (None, 1, 1)         1           month[0][0]                      \n",
      "__________________________________________________________________________________________________\n",
      "embedding_8 (Embedding)         (None, 1, 1)         1           year[0][0]                       \n",
      "__________________________________________________________________________________________________\n",
      "embedding_9 (Embedding)         (None, 1, 1)         1           event_name_1[0][0]               \n",
      "__________________________________________________________________________________________________\n",
      "embedding_10 (Embedding)        (None, 1, 1)         1           event_type_1[0][0]               \n",
      "__________________________________________________________________________________________________\n",
      "embedding_11 (Embedding)        (None, 1, 1)         1           event_name_2[0][0]               \n",
      "__________________________________________________________________________________________________\n",
      "embedding_12 (Embedding)        (None, 1, 1)         1           event_type_2[0][0]               \n",
      "__________________________________________________________________________________________________\n",
      "embedding_13 (Embedding)        (None, 1, 1)         1           snap[0][0]                       \n",
      "__________________________________________________________________________________________________\n",
      "embedding_14 (Embedding)        (None, 1, 1)         1           sell_price[0][0]                 \n",
      "__________________________________________________________________________________________________\n",
      "all (InputLayer)                [(None, 16)]         0                                            \n",
      "__________________________________________________________________________________________________\n",
      "flatten (Flatten)               (None, 1)            0           embedding[0][0]                  \n",
      "__________________________________________________________________________________________________\n",
      "flatten_1 (Flatten)             (None, 1)            0           embedding_1[0][0]                \n",
      "__________________________________________________________________________________________________\n",
      "flatten_2 (Flatten)             (None, 1)            0           embedding_2[0][0]                \n",
      "__________________________________________________________________________________________________\n",
      "flatten_3 (Flatten)             (None, 1)            0           embedding_3[0][0]                \n",
      "__________________________________________________________________________________________________\n",
      "flatten_4 (Flatten)             (None, 1)            0           embedding_4[0][0]                \n",
      "__________________________________________________________________________________________________\n",
      "flatten_5 (Flatten)             (None, 1)            0           embedding_5[0][0]                \n",
      "__________________________________________________________________________________________________\n",
      "flatten_6 (Flatten)             (None, 1)            0           embedding_6[0][0]                \n",
      "__________________________________________________________________________________________________\n",
      "flatten_7 (Flatten)             (None, 1)            0           embedding_7[0][0]                \n",
      "__________________________________________________________________________________________________\n",
      "flatten_8 (Flatten)             (None, 1)            0           embedding_8[0][0]                \n",
      "__________________________________________________________________________________________________\n",
      "flatten_9 (Flatten)             (None, 1)            0           embedding_9[0][0]                \n",
      "__________________________________________________________________________________________________\n",
      "flatten_10 (Flatten)            (None, 1)            0           embedding_10[0][0]               \n",
      "__________________________________________________________________________________________________\n",
      "flatten_11 (Flatten)            (None, 1)            0           embedding_11[0][0]               \n",
      "__________________________________________________________________________________________________\n",
      "flatten_12 (Flatten)            (None, 1)            0           embedding_12[0][0]               \n",
      "__________________________________________________________________________________________________\n",
      "flatten_13 (Flatten)            (None, 1)            0           embedding_13[0][0]               \n",
      "__________________________________________________________________________________________________\n",
      "flatten_14 (Flatten)            (None, 1)            0           embedding_14[0][0]               \n",
      "__________________________________________________________________________________________________\n",
      "concatenate (Concatenate)       (None, 46)           0           all[0][0]                        \n",
      "                                                                 item_id[0][0]                    \n",
      "                                                                 dept_id[0][0]                    \n",
      "                                                                 cat_id[0][0]                     \n",
      "                                                                 store_id[0][0]                   \n",
      "                                                                 d_n[0][0]                        \n",
      "                                                                 wm_yr_wk[0][0]                   \n",
      "                                                                 wday[0][0]                       \n",
      "                                                                 month[0][0]                      \n",
      "                                                                 year[0][0]                       \n",
      "                                                                 event_name_1[0][0]               \n",
      "                                                                 event_type_1[0][0]               \n",
      "                                                                 event_name_2[0][0]               \n",
      "                                                                 event_type_2[0][0]               \n",
      "                                                                 snap[0][0]                       \n",
      "                                                                 sell_price[0][0]                 \n",
      "                                                                 flatten[0][0]                    \n",
      "                                                                 flatten_1[0][0]                  \n",
      "                                                                 flatten_2[0][0]                  \n",
      "                                                                 flatten_3[0][0]                  \n",
      "                                                                 flatten_4[0][0]                  \n",
      "                                                                 flatten_5[0][0]                  \n",
      "                                                                 flatten_6[0][0]                  \n",
      "                                                                 flatten_7[0][0]                  \n",
      "                                                                 flatten_8[0][0]                  \n",
      "                                                                 flatten_9[0][0]                  \n",
      "                                                                 flatten_10[0][0]                 \n",
      "                                                                 flatten_11[0][0]                 \n",
      "                                                                 flatten_12[0][0]                 \n",
      "                                                                 flatten_13[0][0]                 \n",
      "                                                                 flatten_14[0][0]                 \n",
      "__________________________________________________________________________________________________\n",
      "dense (Dense)                   (None, 256)          12032       concatenate[0][0]                \n",
      "__________________________________________________________________________________________________\n",
      "dense_1 (Dense)                 (None, 128)          32896       dense[0][0]                      \n",
      "__________________________________________________________________________________________________\n",
      "dense_2 (Dense)                 (None, 64)           8256        dense_1[0][0]                    \n",
      "__________________________________________________________________________________________________\n",
      "dense_3 (Dense)                 (None, 32)           2080        dense_2[0][0]                    \n",
      "__________________________________________________________________________________________________\n",
      "dense_4 (Dense)                 (None, 1)            33          dense_3[0][0]                    \n",
      "==================================================================================================\n",
      "Total params: 55,312\n",
      "Trainable params: 55,312\n",
      "Non-trainable params: 0\n",
      "__________________________________________________________________________________________________\n"
     ]
    }
   ],
   "source": [
    "model = build_model()\n",
    "model.summary()"
   ]
  },
  {
   "cell_type": "markdown",
   "metadata": {
    "colab_type": "text",
    "id": "2Id07q0r74Xp"
   },
   "source": [
    "After applying different optimizers with different learning rate and comparing all accuracies, we choose the optimizer `Adam` and the learning rate `0.005`. Moreover, the mean_squared_error works as the loss."
   ]
  },
  {
   "cell_type": "code",
   "execution_count": 0,
   "metadata": {
    "colab": {},
    "colab_type": "code",
    "id": "EJJoMmmuUz10"
   },
   "outputs": [],
   "source": [
    "model.compile(optimizer=tf.keras.optimizers.Adam(learning_rate=0.005), \n",
    "                  loss=tf.keras.losses.mean_squared_error)"
   ]
  },
  {
   "cell_type": "markdown",
   "metadata": {
    "colab_type": "text",
    "id": "z_Ts4OboUz12"
   },
   "source": [
    "#### Train model\n",
    "\n",
    "`batch_size`: Number of samples per gradient update. \n",
    "\n",
    "`epochs`: Number of epochs to train the model. An epoch is an iteration over the entire x and y data provided.\n",
    "\n",
    "Since the size of this dataset is too large, and batch_size is not work here, to deal with this situation, we seperate training data into 5 parts and call `fit` function to train the model with epochs=1 for each part of training data."
   ]
  },
  {
   "cell_type": "code",
   "execution_count": 0,
   "metadata": {
    "colab": {},
    "colab_type": "code",
    "id": "pnb2shnlUz13",
    "outputId": "52195b87-12dd-4367-c595-9aafbbad4ebe"
   },
   "outputs": [
    {
     "name": "stdout",
     "output_type": "stream",
     "text": [
      "Train on 11476436 samples, validate on 945190 samples\n",
      "11476436/11476436 [==============================] - 37s 3us/sample - loss: 14.7613 - val_loss: 13.1010\n",
      "Train on 11476436 samples, validate on 945190 samples\n",
      "11476436/11476436 [==============================] - 36s 3us/sample - loss: 14.6904 - val_loss: 13.1506\n",
      "Train on 11476436 samples, validate on 945190 samples\n",
      "11476436/11476436 [==============================] - 39s 3us/sample - loss: 14.5038 - val_loss: 13.0287\n",
      "Train on 11476436 samples, validate on 945190 samples\n",
      "11476436/11476436 [==============================] - 42s 4us/sample - loss: 14.4413 - val_loss: 12.8694\n",
      "Train on 11476436 samples, validate on 945190 samples\n",
      "11476436/11476436 [==============================] - 40s 3us/sample - loss: 14.9703 - val_loss: 12.8244\n"
     ]
    },
    {
     "data": {
      "text/plain": [
       "<tensorflow.python.keras.callbacks.History at 0x14b5b0f60>"
      ]
     },
     "execution_count": 38,
     "metadata": {
      "tags": []
     },
     "output_type": "execute_result"
    }
   ],
   "source": [
    "BATCH_SIZE = 30490\n",
    "EPOCHS = 1\n",
    "\n",
    "model.fit(x_train1, Y_train1, batch_size=BATCH_SIZE, epochs=EPOCHS, validation_data=(x_test,Y_test))\n",
    "model.fit(x_train2, Y_train2, batch_size=BATCH_SIZE, epochs=EPOCHS, validation_data=(x_test,Y_test))\n",
    "model.fit(x_train3, Y_train3, batch_size=BATCH_SIZE, epochs=EPOCHS, validation_data=(x_test,Y_test))\n",
    "model.fit(x_train4, Y_train4, batch_size=BATCH_SIZE, epochs=EPOCHS, validation_data=(x_test,Y_test))\n",
    "model.fit(x_train5, Y_train5, batch_size=BATCH_SIZE, epochs=EPOCHS, validation_data=(x_test,Y_test))"
   ]
  },
  {
   "cell_type": "code",
   "execution_count": 0,
   "metadata": {
    "colab": {},
    "colab_type": "code",
    "id": "876HzbJtUz15"
   },
   "outputs": [],
   "source": [
    "del x_train1, Y_train1, x_train2, Y_train2, x_train3, Y_train3\n",
    "del x_train4, Y_train4, x_train5, Y_train5, x_test, Y_test"
   ]
  },
  {
   "cell_type": "markdown",
   "metadata": {
    "colab_type": "text",
    "id": "9azmXHRuUz17"
   },
   "source": [
    "### Prediction\n",
    "\n",
    "The final step is to apply the RNN model on forecasting daily sales for the next 28 days (from `d1914` to `d1941`)."
   ]
  },
  {
   "cell_type": "code",
   "execution_count": 0,
   "metadata": {
    "colab": {},
    "colab_type": "code",
    "id": "vCtyfO-CUz18"
   },
   "outputs": [],
   "source": [
    "predictions = model.predict(x_pred)\n",
    "del model, build_model"
   ]
  },
  {
   "cell_type": "code",
   "execution_count": 0,
   "metadata": {
    "colab": {},
    "colab_type": "code",
    "id": "hOI55x4TUz1-"
   },
   "outputs": [],
   "source": [
    "pred = pd.DataFrame(predictions)\n",
    "pred.columns = [\"pred\"]\n",
    "n_sample_id = n_sample_id.reset_index(drop=True)\n",
    "pred = pd.concat([n_sample_id, pred], axis=1)\n",
    "pred[\"f\"] = np.tile(np.array(range(1,29)), 30490)\n",
    "pred[\"f\"] = pred[\"f\"].map(lambda x: \"F\"+str(x))\n",
    "del predictions"
   ]
  },
  {
   "cell_type": "code",
   "execution_count": 0,
   "metadata": {
    "colab": {},
    "colab_type": "code",
    "id": "__pvwHVuUz2B",
    "outputId": "7583056c-d08f-400f-eef6-40c812337b1e"
   },
   "outputs": [
    {
     "name": "stdout",
     "output_type": "stream",
     "text": [
      "Memory usage after optimization is: 1.86 MB\n",
      "Decreased by 46.7%\n"
     ]
    }
   ],
   "source": [
    "sample_submission = pd.read_csv(\"m5-forecasting-accuracy/sample_submission.csv\")\n",
    "sample_submission_evaluation = sample_submission[sample_submission[\"id\"].str.contains(\"evaluation\")]\n",
    "del sample_submission\n",
    "\n",
    "pred_pivot = pred.pivot(index=\"id\", columns=\"f\", values=\"pred\").reset_index()\n",
    "del pred\n",
    "\n",
    "pred_pivot[\"id\"] = pred_pivot[\"id\"].map(lambda x: x[:-10]+\"evaluation\")\n",
    "pred_pivot = pred_pivot.reindex(columns=sample_submission_evaluation.columns)\n",
    "pred_pivot = reduce_mem_usage(pred_pivot)\n",
    "pred_final = pd.merge(sample_submission_evaluation[[\"id\"]], pred_pivot, how=\"left\", left_on=[\"id\"], right_on=[\"id\"])\n",
    "del pred_pivot "
   ]
  },
  {
   "cell_type": "markdown",
   "metadata": {
    "colab_type": "text",
    "id": "ZSQX8wahETqz"
   },
   "source": [
    "For the forecasting table, `id` refers to a particular item that would be sold in the store mentioned. Values from `F1` to `F28` are the predicted numbers of sales in the 28-days period."
   ]
  },
  {
   "cell_type": "code",
   "execution_count": 0,
   "metadata": {
    "colab": {},
    "colab_type": "code",
    "id": "XPZKC0GuUz2D",
    "outputId": "b806ec3a-9241-4e9d-bfa0-35d881e57446"
   },
   "outputs": [
    {
     "data": {
      "text/html": [
       "<div>\n",
       "<style scoped>\n",
       "    .dataframe tbody tr th:only-of-type {\n",
       "        vertical-align: middle;\n",
       "    }\n",
       "\n",
       "    .dataframe tbody tr th {\n",
       "        vertical-align: top;\n",
       "    }\n",
       "\n",
       "    .dataframe thead th {\n",
       "        text-align: right;\n",
       "    }\n",
       "</style>\n",
       "<table border=\"1\" class=\"dataframe\">\n",
       "  <thead>\n",
       "    <tr style=\"text-align: right;\">\n",
       "      <th></th>\n",
       "      <th>id</th>\n",
       "      <th>F1</th>\n",
       "      <th>F2</th>\n",
       "      <th>F3</th>\n",
       "      <th>F4</th>\n",
       "      <th>F5</th>\n",
       "      <th>F6</th>\n",
       "      <th>F7</th>\n",
       "      <th>F8</th>\n",
       "      <th>F9</th>\n",
       "      <th>...</th>\n",
       "      <th>F19</th>\n",
       "      <th>F20</th>\n",
       "      <th>F21</th>\n",
       "      <th>F22</th>\n",
       "      <th>F23</th>\n",
       "      <th>F24</th>\n",
       "      <th>F25</th>\n",
       "      <th>F26</th>\n",
       "      <th>F27</th>\n",
       "      <th>F28</th>\n",
       "    </tr>\n",
       "  </thead>\n",
       "  <tbody>\n",
       "    <tr>\n",
       "      <th>0</th>\n",
       "      <td>HOBBIES_1_001_CA_1_evaluation</td>\n",
       "      <td>0.438965</td>\n",
       "      <td>0.405029</td>\n",
       "      <td>0.383789</td>\n",
       "      <td>0.363770</td>\n",
       "      <td>0.344482</td>\n",
       "      <td>0.489258</td>\n",
       "      <td>0.504395</td>\n",
       "      <td>0.498047</td>\n",
       "      <td>0.459961</td>\n",
       "      <td>...</td>\n",
       "      <td>0.341553</td>\n",
       "      <td>0.524414</td>\n",
       "      <td>0.483887</td>\n",
       "      <td>0.445801</td>\n",
       "      <td>0.408936</td>\n",
       "      <td>0.380859</td>\n",
       "      <td>0.360107</td>\n",
       "      <td>0.340820</td>\n",
       "      <td>0.527344</td>\n",
       "      <td>0.486816</td>\n",
       "    </tr>\n",
       "    <tr>\n",
       "      <th>1</th>\n",
       "      <td>HOBBIES_1_002_CA_1_evaluation</td>\n",
       "      <td>1.418945</td>\n",
       "      <td>1.284180</td>\n",
       "      <td>1.151367</td>\n",
       "      <td>1.030273</td>\n",
       "      <td>0.907715</td>\n",
       "      <td>1.579102</td>\n",
       "      <td>1.624023</td>\n",
       "      <td>1.614258</td>\n",
       "      <td>1.480469</td>\n",
       "      <td>...</td>\n",
       "      <td>0.922363</td>\n",
       "      <td>1.708008</td>\n",
       "      <td>1.575195</td>\n",
       "      <td>1.440430</td>\n",
       "      <td>1.307617</td>\n",
       "      <td>1.173828</td>\n",
       "      <td>1.048828</td>\n",
       "      <td>0.928223</td>\n",
       "      <td>1.714844</td>\n",
       "      <td>1.582031</td>\n",
       "    </tr>\n",
       "    <tr>\n",
       "      <th>2</th>\n",
       "      <td>HOBBIES_1_003_CA_1_evaluation</td>\n",
       "      <td>1.781250</td>\n",
       "      <td>1.635742</td>\n",
       "      <td>1.500000</td>\n",
       "      <td>1.367188</td>\n",
       "      <td>1.232422</td>\n",
       "      <td>1.951172</td>\n",
       "      <td>1.998047</td>\n",
       "      <td>1.990234</td>\n",
       "      <td>1.844727</td>\n",
       "      <td>...</td>\n",
       "      <td>1.247070</td>\n",
       "      <td>2.097656</td>\n",
       "      <td>1.950195</td>\n",
       "      <td>1.802734</td>\n",
       "      <td>1.660156</td>\n",
       "      <td>1.523438</td>\n",
       "      <td>1.388672</td>\n",
       "      <td>1.255859</td>\n",
       "      <td>2.103516</td>\n",
       "      <td>1.956055</td>\n",
       "    </tr>\n",
       "    <tr>\n",
       "      <th>3</th>\n",
       "      <td>HOBBIES_1_004_CA_1_evaluation</td>\n",
       "      <td>1.158203</td>\n",
       "      <td>1.029297</td>\n",
       "      <td>0.908203</td>\n",
       "      <td>0.800293</td>\n",
       "      <td>0.704590</td>\n",
       "      <td>1.325195</td>\n",
       "      <td>1.370117</td>\n",
       "      <td>1.359375</td>\n",
       "      <td>1.226562</td>\n",
       "      <td>...</td>\n",
       "      <td>0.707520</td>\n",
       "      <td>1.447266</td>\n",
       "      <td>1.314453</td>\n",
       "      <td>1.179688</td>\n",
       "      <td>1.049805</td>\n",
       "      <td>0.936035</td>\n",
       "      <td>0.818359</td>\n",
       "      <td>0.717285</td>\n",
       "      <td>1.460938</td>\n",
       "      <td>1.328125</td>\n",
       "    </tr>\n",
       "    <tr>\n",
       "      <th>4</th>\n",
       "      <td>HOBBIES_1_005_CA_1_evaluation</td>\n",
       "      <td>1.788086</td>\n",
       "      <td>1.644531</td>\n",
       "      <td>1.509766</td>\n",
       "      <td>1.376953</td>\n",
       "      <td>1.242188</td>\n",
       "      <td>1.958008</td>\n",
       "      <td>2.003906</td>\n",
       "      <td>1.997070</td>\n",
       "      <td>1.851562</td>\n",
       "      <td>...</td>\n",
       "      <td>1.257812</td>\n",
       "      <td>2.103516</td>\n",
       "      <td>1.956055</td>\n",
       "      <td>1.808594</td>\n",
       "      <td>1.667969</td>\n",
       "      <td>1.532227</td>\n",
       "      <td>1.397461</td>\n",
       "      <td>1.264648</td>\n",
       "      <td>2.109375</td>\n",
       "      <td>1.962891</td>\n",
       "    </tr>\n",
       "  </tbody>\n",
       "</table>\n",
       "<p>5 rows × 29 columns</p>\n",
       "</div>"
      ],
      "text/plain": [
       "                              id        F1        F2        F3        F4  \\\n",
       "0  HOBBIES_1_001_CA_1_evaluation  0.438965  0.405029  0.383789  0.363770   \n",
       "1  HOBBIES_1_002_CA_1_evaluation  1.418945  1.284180  1.151367  1.030273   \n",
       "2  HOBBIES_1_003_CA_1_evaluation  1.781250  1.635742  1.500000  1.367188   \n",
       "3  HOBBIES_1_004_CA_1_evaluation  1.158203  1.029297  0.908203  0.800293   \n",
       "4  HOBBIES_1_005_CA_1_evaluation  1.788086  1.644531  1.509766  1.376953   \n",
       "\n",
       "         F5        F6        F7        F8        F9  ...       F19       F20  \\\n",
       "0  0.344482  0.489258  0.504395  0.498047  0.459961  ...  0.341553  0.524414   \n",
       "1  0.907715  1.579102  1.624023  1.614258  1.480469  ...  0.922363  1.708008   \n",
       "2  1.232422  1.951172  1.998047  1.990234  1.844727  ...  1.247070  2.097656   \n",
       "3  0.704590  1.325195  1.370117  1.359375  1.226562  ...  0.707520  1.447266   \n",
       "4  1.242188  1.958008  2.003906  1.997070  1.851562  ...  1.257812  2.103516   \n",
       "\n",
       "        F21       F22       F23       F24       F25       F26       F27  \\\n",
       "0  0.483887  0.445801  0.408936  0.380859  0.360107  0.340820  0.527344   \n",
       "1  1.575195  1.440430  1.307617  1.173828  1.048828  0.928223  1.714844   \n",
       "2  1.950195  1.802734  1.660156  1.523438  1.388672  1.255859  2.103516   \n",
       "3  1.314453  1.179688  1.049805  0.936035  0.818359  0.717285  1.460938   \n",
       "4  1.956055  1.808594  1.667969  1.532227  1.397461  1.264648  2.109375   \n",
       "\n",
       "        F28  \n",
       "0  0.486816  \n",
       "1  1.582031  \n",
       "2  1.956055  \n",
       "3  1.328125  \n",
       "4  1.962891  \n",
       "\n",
       "[5 rows x 29 columns]"
      ]
     },
     "execution_count": 43,
     "metadata": {
      "tags": []
     },
     "output_type": "execute_result"
    }
   ],
   "source": [
    "pred_final.head()"
   ]
  },
  {
   "cell_type": "markdown",
   "metadata": {
    "colab_type": "text",
    "id": "jjsCvhw0-BVK"
   },
   "source": [
    "As the number of sales of each item must be an integer, so we round all predicted values from decimals into integers."
   ]
  },
  {
   "cell_type": "code",
   "execution_count": 0,
   "metadata": {
    "colab": {},
    "colab_type": "code",
    "id": "vxyGKY_7Uz2E",
    "outputId": "219b8041-8909-43a4-bc18-9ac207dd4e42"
   },
   "outputs": [
    {
     "data": {
      "text/html": [
       "<div>\n",
       "<style scoped>\n",
       "    .dataframe tbody tr th:only-of-type {\n",
       "        vertical-align: middle;\n",
       "    }\n",
       "\n",
       "    .dataframe tbody tr th {\n",
       "        vertical-align: top;\n",
       "    }\n",
       "\n",
       "    .dataframe thead th {\n",
       "        text-align: right;\n",
       "    }\n",
       "</style>\n",
       "<table border=\"1\" class=\"dataframe\">\n",
       "  <thead>\n",
       "    <tr style=\"text-align: right;\">\n",
       "      <th></th>\n",
       "      <th>id</th>\n",
       "      <th>F1</th>\n",
       "      <th>F2</th>\n",
       "      <th>F3</th>\n",
       "      <th>F4</th>\n",
       "      <th>F5</th>\n",
       "      <th>F6</th>\n",
       "      <th>F7</th>\n",
       "      <th>F8</th>\n",
       "      <th>F9</th>\n",
       "      <th>...</th>\n",
       "      <th>F19</th>\n",
       "      <th>F20</th>\n",
       "      <th>F21</th>\n",
       "      <th>F22</th>\n",
       "      <th>F23</th>\n",
       "      <th>F24</th>\n",
       "      <th>F25</th>\n",
       "      <th>F26</th>\n",
       "      <th>F27</th>\n",
       "      <th>F28</th>\n",
       "    </tr>\n",
       "  </thead>\n",
       "  <tbody>\n",
       "    <tr>\n",
       "      <th>0</th>\n",
       "      <td>HOBBIES_1_001_CA_1_evaluation</td>\n",
       "      <td>0.0</td>\n",
       "      <td>0.0</td>\n",
       "      <td>0.0</td>\n",
       "      <td>0.0</td>\n",
       "      <td>0.0</td>\n",
       "      <td>0.0</td>\n",
       "      <td>1.0</td>\n",
       "      <td>0.0</td>\n",
       "      <td>0.0</td>\n",
       "      <td>...</td>\n",
       "      <td>0.0</td>\n",
       "      <td>1.0</td>\n",
       "      <td>0.0</td>\n",
       "      <td>0.0</td>\n",
       "      <td>0.0</td>\n",
       "      <td>0.0</td>\n",
       "      <td>0.0</td>\n",
       "      <td>0.0</td>\n",
       "      <td>1.0</td>\n",
       "      <td>0.0</td>\n",
       "    </tr>\n",
       "    <tr>\n",
       "      <th>1</th>\n",
       "      <td>HOBBIES_1_002_CA_1_evaluation</td>\n",
       "      <td>1.0</td>\n",
       "      <td>1.0</td>\n",
       "      <td>1.0</td>\n",
       "      <td>1.0</td>\n",
       "      <td>1.0</td>\n",
       "      <td>2.0</td>\n",
       "      <td>2.0</td>\n",
       "      <td>2.0</td>\n",
       "      <td>1.0</td>\n",
       "      <td>...</td>\n",
       "      <td>1.0</td>\n",
       "      <td>2.0</td>\n",
       "      <td>2.0</td>\n",
       "      <td>1.0</td>\n",
       "      <td>1.0</td>\n",
       "      <td>1.0</td>\n",
       "      <td>1.0</td>\n",
       "      <td>1.0</td>\n",
       "      <td>2.0</td>\n",
       "      <td>2.0</td>\n",
       "    </tr>\n",
       "    <tr>\n",
       "      <th>2</th>\n",
       "      <td>HOBBIES_1_003_CA_1_evaluation</td>\n",
       "      <td>2.0</td>\n",
       "      <td>2.0</td>\n",
       "      <td>2.0</td>\n",
       "      <td>1.0</td>\n",
       "      <td>1.0</td>\n",
       "      <td>2.0</td>\n",
       "      <td>2.0</td>\n",
       "      <td>2.0</td>\n",
       "      <td>2.0</td>\n",
       "      <td>...</td>\n",
       "      <td>1.0</td>\n",
       "      <td>2.0</td>\n",
       "      <td>2.0</td>\n",
       "      <td>2.0</td>\n",
       "      <td>2.0</td>\n",
       "      <td>2.0</td>\n",
       "      <td>1.0</td>\n",
       "      <td>1.0</td>\n",
       "      <td>2.0</td>\n",
       "      <td>2.0</td>\n",
       "    </tr>\n",
       "    <tr>\n",
       "      <th>3</th>\n",
       "      <td>HOBBIES_1_004_CA_1_evaluation</td>\n",
       "      <td>1.0</td>\n",
       "      <td>1.0</td>\n",
       "      <td>1.0</td>\n",
       "      <td>1.0</td>\n",
       "      <td>1.0</td>\n",
       "      <td>1.0</td>\n",
       "      <td>1.0</td>\n",
       "      <td>1.0</td>\n",
       "      <td>1.0</td>\n",
       "      <td>...</td>\n",
       "      <td>1.0</td>\n",
       "      <td>1.0</td>\n",
       "      <td>1.0</td>\n",
       "      <td>1.0</td>\n",
       "      <td>1.0</td>\n",
       "      <td>1.0</td>\n",
       "      <td>1.0</td>\n",
       "      <td>1.0</td>\n",
       "      <td>1.0</td>\n",
       "      <td>1.0</td>\n",
       "    </tr>\n",
       "    <tr>\n",
       "      <th>4</th>\n",
       "      <td>HOBBIES_1_005_CA_1_evaluation</td>\n",
       "      <td>2.0</td>\n",
       "      <td>2.0</td>\n",
       "      <td>2.0</td>\n",
       "      <td>1.0</td>\n",
       "      <td>1.0</td>\n",
       "      <td>2.0</td>\n",
       "      <td>2.0</td>\n",
       "      <td>2.0</td>\n",
       "      <td>2.0</td>\n",
       "      <td>...</td>\n",
       "      <td>1.0</td>\n",
       "      <td>2.0</td>\n",
       "      <td>2.0</td>\n",
       "      <td>2.0</td>\n",
       "      <td>2.0</td>\n",
       "      <td>2.0</td>\n",
       "      <td>1.0</td>\n",
       "      <td>1.0</td>\n",
       "      <td>2.0</td>\n",
       "      <td>2.0</td>\n",
       "    </tr>\n",
       "    <tr>\n",
       "      <th>5</th>\n",
       "      <td>HOBBIES_1_006_CA_1_evaluation</td>\n",
       "      <td>3.0</td>\n",
       "      <td>2.0</td>\n",
       "      <td>2.0</td>\n",
       "      <td>2.0</td>\n",
       "      <td>2.0</td>\n",
       "      <td>3.0</td>\n",
       "      <td>3.0</td>\n",
       "      <td>3.0</td>\n",
       "      <td>3.0</td>\n",
       "      <td>...</td>\n",
       "      <td>2.0</td>\n",
       "      <td>3.0</td>\n",
       "      <td>3.0</td>\n",
       "      <td>3.0</td>\n",
       "      <td>2.0</td>\n",
       "      <td>2.0</td>\n",
       "      <td>2.0</td>\n",
       "      <td>2.0</td>\n",
       "      <td>3.0</td>\n",
       "      <td>3.0</td>\n",
       "    </tr>\n",
       "    <tr>\n",
       "      <th>6</th>\n",
       "      <td>HOBBIES_1_007_CA_1_evaluation</td>\n",
       "      <td>0.0</td>\n",
       "      <td>0.0</td>\n",
       "      <td>0.0</td>\n",
       "      <td>0.0</td>\n",
       "      <td>0.0</td>\n",
       "      <td>1.0</td>\n",
       "      <td>1.0</td>\n",
       "      <td>1.0</td>\n",
       "      <td>0.0</td>\n",
       "      <td>...</td>\n",
       "      <td>0.0</td>\n",
       "      <td>1.0</td>\n",
       "      <td>1.0</td>\n",
       "      <td>0.0</td>\n",
       "      <td>0.0</td>\n",
       "      <td>0.0</td>\n",
       "      <td>0.0</td>\n",
       "      <td>0.0</td>\n",
       "      <td>1.0</td>\n",
       "      <td>1.0</td>\n",
       "    </tr>\n",
       "    <tr>\n",
       "      <th>7</th>\n",
       "      <td>HOBBIES_1_008_CA_1_evaluation</td>\n",
       "      <td>3.0</td>\n",
       "      <td>3.0</td>\n",
       "      <td>2.0</td>\n",
       "      <td>2.0</td>\n",
       "      <td>2.0</td>\n",
       "      <td>3.0</td>\n",
       "      <td>3.0</td>\n",
       "      <td>3.0</td>\n",
       "      <td>3.0</td>\n",
       "      <td>...</td>\n",
       "      <td>2.0</td>\n",
       "      <td>3.0</td>\n",
       "      <td>3.0</td>\n",
       "      <td>3.0</td>\n",
       "      <td>3.0</td>\n",
       "      <td>3.0</td>\n",
       "      <td>2.0</td>\n",
       "      <td>2.0</td>\n",
       "      <td>3.0</td>\n",
       "      <td>3.0</td>\n",
       "    </tr>\n",
       "    <tr>\n",
       "      <th>8</th>\n",
       "      <td>HOBBIES_1_009_CA_1_evaluation</td>\n",
       "      <td>2.0</td>\n",
       "      <td>2.0</td>\n",
       "      <td>2.0</td>\n",
       "      <td>2.0</td>\n",
       "      <td>2.0</td>\n",
       "      <td>2.0</td>\n",
       "      <td>2.0</td>\n",
       "      <td>2.0</td>\n",
       "      <td>2.0</td>\n",
       "      <td>...</td>\n",
       "      <td>2.0</td>\n",
       "      <td>3.0</td>\n",
       "      <td>2.0</td>\n",
       "      <td>2.0</td>\n",
       "      <td>2.0</td>\n",
       "      <td>2.0</td>\n",
       "      <td>2.0</td>\n",
       "      <td>2.0</td>\n",
       "      <td>3.0</td>\n",
       "      <td>2.0</td>\n",
       "    </tr>\n",
       "    <tr>\n",
       "      <th>9</th>\n",
       "      <td>HOBBIES_1_010_CA_1_evaluation</td>\n",
       "      <td>2.0</td>\n",
       "      <td>2.0</td>\n",
       "      <td>1.0</td>\n",
       "      <td>1.0</td>\n",
       "      <td>1.0</td>\n",
       "      <td>2.0</td>\n",
       "      <td>2.0</td>\n",
       "      <td>2.0</td>\n",
       "      <td>2.0</td>\n",
       "      <td>...</td>\n",
       "      <td>1.0</td>\n",
       "      <td>2.0</td>\n",
       "      <td>2.0</td>\n",
       "      <td>2.0</td>\n",
       "      <td>2.0</td>\n",
       "      <td>1.0</td>\n",
       "      <td>1.0</td>\n",
       "      <td>1.0</td>\n",
       "      <td>2.0</td>\n",
       "      <td>2.0</td>\n",
       "    </tr>\n",
       "  </tbody>\n",
       "</table>\n",
       "<p>10 rows × 29 columns</p>\n",
       "</div>"
      ],
      "text/plain": [
       "                              id   F1   F2   F3   F4   F5   F6   F7   F8   F9  \\\n",
       "0  HOBBIES_1_001_CA_1_evaluation  0.0  0.0  0.0  0.0  0.0  0.0  1.0  0.0  0.0   \n",
       "1  HOBBIES_1_002_CA_1_evaluation  1.0  1.0  1.0  1.0  1.0  2.0  2.0  2.0  1.0   \n",
       "2  HOBBIES_1_003_CA_1_evaluation  2.0  2.0  2.0  1.0  1.0  2.0  2.0  2.0  2.0   \n",
       "3  HOBBIES_1_004_CA_1_evaluation  1.0  1.0  1.0  1.0  1.0  1.0  1.0  1.0  1.0   \n",
       "4  HOBBIES_1_005_CA_1_evaluation  2.0  2.0  2.0  1.0  1.0  2.0  2.0  2.0  2.0   \n",
       "5  HOBBIES_1_006_CA_1_evaluation  3.0  2.0  2.0  2.0  2.0  3.0  3.0  3.0  3.0   \n",
       "6  HOBBIES_1_007_CA_1_evaluation  0.0  0.0  0.0  0.0  0.0  1.0  1.0  1.0  0.0   \n",
       "7  HOBBIES_1_008_CA_1_evaluation  3.0  3.0  2.0  2.0  2.0  3.0  3.0  3.0  3.0   \n",
       "8  HOBBIES_1_009_CA_1_evaluation  2.0  2.0  2.0  2.0  2.0  2.0  2.0  2.0  2.0   \n",
       "9  HOBBIES_1_010_CA_1_evaluation  2.0  2.0  1.0  1.0  1.0  2.0  2.0  2.0  2.0   \n",
       "\n",
       "   ...  F19  F20  F21  F22  F23  F24  F25  F26  F27  F28  \n",
       "0  ...  0.0  1.0  0.0  0.0  0.0  0.0  0.0  0.0  1.0  0.0  \n",
       "1  ...  1.0  2.0  2.0  1.0  1.0  1.0  1.0  1.0  2.0  2.0  \n",
       "2  ...  1.0  2.0  2.0  2.0  2.0  2.0  1.0  1.0  2.0  2.0  \n",
       "3  ...  1.0  1.0  1.0  1.0  1.0  1.0  1.0  1.0  1.0  1.0  \n",
       "4  ...  1.0  2.0  2.0  2.0  2.0  2.0  1.0  1.0  2.0  2.0  \n",
       "5  ...  2.0  3.0  3.0  3.0  2.0  2.0  2.0  2.0  3.0  3.0  \n",
       "6  ...  0.0  1.0  1.0  0.0  0.0  0.0  0.0  0.0  1.0  1.0  \n",
       "7  ...  2.0  3.0  3.0  3.0  3.0  3.0  2.0  2.0  3.0  3.0  \n",
       "8  ...  2.0  3.0  2.0  2.0  2.0  2.0  2.0  2.0  3.0  2.0  \n",
       "9  ...  1.0  2.0  2.0  2.0  2.0  1.0  1.0  1.0  2.0  2.0  \n",
       "\n",
       "[10 rows x 29 columns]"
      ]
     },
     "execution_count": 44,
     "metadata": {
      "tags": []
     },
     "output_type": "execute_result"
    }
   ],
   "source": [
    "pred_final=pred_final.round(0)\n",
    "pred_final.head(10)"
   ]
  },
  {
   "cell_type": "markdown",
   "metadata": {
    "colab_type": "text",
    "id": "05fkP2BT-Q3z"
   },
   "source": [
    "The prediction table is saved as a csv file for submission."
   ]
  },
  {
   "cell_type": "code",
   "execution_count": 0,
   "metadata": {
    "colab": {},
    "colab_type": "code",
    "id": "cSA3oOllUz2G"
   },
   "outputs": [],
   "source": [
    "pred_final.to_csv(\"sample_submission_evaluation.csv\", index=None)"
   ]
  },
  {
   "cell_type": "markdown",
   "metadata": {
    "colab_type": "text",
    "id": "NuU7Wo87Cw6z"
   },
   "source": [
    "### Conclusion\n",
    "\n",
    "**Recurrent Neural Networks**, or RNNs, were designed to work with sequence prediction problems, which can model sequence of data so that each sample can be assumed to be dependent on previous ones.\n",
    "\n",
    "In this mini project 2, we construct a RNN model on forecasting the 28-days expected sales of product groups in the USA by Walmart. \n",
    "\n",
    "After loading the 4 datasets, there are 4 main steps to prepare the original robust dataset into the dataset for further modelling. Firstly, we clean and reconstruct 4 datasets, including removing unnecessary columns, adding more importance message and reshaping the structures. Then, we merge separate datasets together into get a larger data frame that contains more information. Next, we normalize data into a common scale to prevent the influence of differences in the ranges of values. Last, we process the data from data frame into dictionary.\n",
    "\n",
    "For prediction, we construct a RNN model. Since many of the features are categorical, using embedding layers is a better choice to deal with categoric inputs for neural nets by skipping the step of making dummy variables by hand.\n",
    "\n",
    "RNNs recurrently perform the same task for every element of a sequence, with the output being depended on the previous computations. Hidden layer in RNN’s have same weights and bias through out the process giving them the chance to memorize information processed through them. The \"memory\" of RNNs captures information about what has been calculated so far."
   ]
  }
 ],
 "metadata": {
  "accelerator": "GPU",
  "colab": {
   "collapsed_sections": [],
   "machine_shape": "hm",
   "name": "project2.ipynb",
   "provenance": []
  },
  "kernelspec": {
   "display_name": "Python 3",
   "language": "python",
   "name": "python3"
  },
  "language_info": {
   "codemirror_mode": {
    "name": "ipython",
    "version": 3
   },
   "file_extension": ".py",
   "mimetype": "text/x-python",
   "name": "python",
   "nbconvert_exporter": "python",
   "pygments_lexer": "ipython3",
   "version": "3.7.3"
  }
 },
 "nbformat": 4,
 "nbformat_minor": 1
}
